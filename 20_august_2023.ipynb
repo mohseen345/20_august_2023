{
 "cells": [
  {
   "cell_type": "markdown",
   "metadata": {},
   "source": [
    "String based assignment problem"
   ]
  },
  {
   "cell_type": "markdown",
   "metadata": {},
   "source": [
    "1. write a program to reverse  a string"
   ]
  },
  {
   "cell_type": "code",
   "execution_count": 21,
   "metadata": {},
   "outputs": [
    {
     "name": "stdout",
     "output_type": "stream",
     "text": [
      "dlrow olleh\n"
     ]
    }
   ],
   "source": [
    "string=\"hello world\"\n",
    "result=string[::-1]\n",
    "print(result)"
   ]
  },
  {
   "cell_type": "markdown",
   "metadata": {},
   "source": [
    "2.check if a string is palindrome"
   ]
  },
  {
   "cell_type": "code",
   "execution_count": 45,
   "metadata": {},
   "outputs": [
    {
     "name": "stdout",
     "output_type": "stream",
     "text": [
      "False\n"
     ]
    }
   ],
   "source": [
    "def is_palindrome(s):\n",
    "    s=s.lower()\n",
    "    s=''.join(e for e in s if e.isalnum())\n",
    "    return s==s[::-1]\n",
    "#driver code\n",
    "s=\"my name is mohseen shaikh\"\n",
    "result=is_palindrome(s)\n",
    "print(result)"
   ]
  },
  {
   "cell_type": "markdown",
   "metadata": {},
   "source": [
    "3.convert a string to uppercase."
   ]
  },
  {
   "cell_type": "code",
   "execution_count": 44,
   "metadata": {},
   "outputs": [
    {
     "name": "stdout",
     "output_type": "stream",
     "text": [
      "uppercase string MOHSEEN\n"
     ]
    }
   ],
   "source": [
    "s=input(\"enter enter any string\")\n",
    "upper_case=s.upper()\n",
    "print(\"uppercase string:\",upper_case)"
   ]
  },
  {
   "cell_type": "markdown",
   "metadata": {},
   "source": [
    "4.convert  a string to lower case"
   ]
  },
  {
   "cell_type": "code",
   "execution_count": 52,
   "metadata": {},
   "outputs": [
    {
     "name": "stdout",
     "output_type": "stream",
     "text": [
      "lower_case  string: mohseen\n"
     ]
    }
   ],
   "source": [
    "s=input(\"enter any string\")\n",
    "lower_case=s.lower()\n",
    "print(\"lower_case  string:\",lower_case)"
   ]
  },
  {
   "cell_type": "markdown",
   "metadata": {},
   "source": [
    "5.count the number of vowels in string"
   ]
  },
  {
   "cell_type": "code",
   "execution_count": 83,
   "metadata": {},
   "outputs": [
    {
     "name": "stdout",
     "output_type": "stream",
     "text": [
      "3\n"
     ]
    }
   ],
   "source": [
    "def count_vowels(string):\n",
    "    vowels_count=0\n",
    "    string=string.lower()\n",
    "    vowels=set(\"aeiou\")\n",
    "    for char in string:\n",
    "       if char in vowels:\n",
    "        vowels_count+=1\n",
    "    return vowels_count\n",
    "    #driver code\n",
    "s=\"hello world\"\n",
    "\n",
    "result=count_vowels(s)\n",
    "print(result)"
   ]
  },
  {
   "cell_type": "markdown",
   "metadata": {},
   "source": [
    "6.count the number of consonants"
   ]
  },
  {
   "cell_type": "code",
   "execution_count": 95,
   "metadata": {},
   "outputs": [
    {
     "name": "stdout",
     "output_type": "stream",
     "text": [
      "this is consonants 30\n"
     ]
    }
   ],
   "source": [
    "def count_consonants(string):\n",
    "    consonant_count=0\n",
    "    consonants=\"hjutfftdrdrfiuuyifrfffeeaaaauu\"\n",
    "    for char in string:\n",
    "       if char in consonants:\n",
    "           consonant_count+=1\n",
    "    return consonant_count\n",
    "s=input(\"enter any string\")\n",
    "result=count_consonants(s)\n",
    "print(\"this is consonants\",result)"
   ]
  },
  {
   "cell_type": "markdown",
   "metadata": {},
   "source": [
    "7.Remove all white spaces from string"
   ]
  },
  {
   "cell_type": "code",
   "execution_count": 147,
   "metadata": {},
   "outputs": [
    {
     "name": "stdout",
     "output_type": "stream",
     "text": [
      "mynameismohseenshaikh\n"
     ]
    }
   ],
   "source": [
    "def remove_whitespace(s):\n",
    "    result=\"\"\n",
    "    for char in s:\n",
    "       if char !=\" \":  \n",
    "          result+=char\n",
    "    return result\n",
    "s=\"my  name is mohseen  shaikh\"\n",
    "s2=remove_whitespace(s)\n",
    "print(s2)"
   ]
  },
  {
   "cell_type": "markdown",
   "metadata": {},
   "source": [
    "8.Find the length of a string without using len() function"
   ]
  },
  {
   "cell_type": "code",
   "execution_count": 173,
   "metadata": {},
   "outputs": [
    {
     "name": "stdout",
     "output_type": "stream",
     "text": [
      "the number of string 7\n"
     ]
    }
   ],
   "source": [
    "count=0\n",
    "for char in input_string:\n",
    "    count+=1\n",
    "input_string=input(\"enter any string\")\n",
    "print(\"the number of string\",count)\n"
   ]
  },
  {
   "cell_type": "markdown",
   "metadata": {},
   "source": [
    "9.check if a string contains specific word."
   ]
  },
  {
   "cell_type": "code",
   "execution_count": 182,
   "metadata": {},
   "outputs": [
    {
     "name": "stdout",
     "output_type": "stream",
     "text": [
      "this is not specific word'king'.\n"
     ]
    }
   ],
   "source": [
    "input_string=input(\"enter any string\")\n",
    "output_string=input(\"enter a specific word\")\n",
    "if char in input_string:\n",
    "    print(f\" specific word'{output_string}'.\")\n",
    "else:\n",
    "    print(f\"this is not specific word'{output_string}'.\")"
   ]
  },
  {
   "cell_type": "markdown",
   "metadata": {},
   "source": [
    "10.Replace the a word in  string with anothe string"
   ]
  },
  {
   "cell_type": "code",
   "execution_count": 184,
   "metadata": {},
   "outputs": [
    {
     "name": "stdout",
     "output_type": "stream",
     "text": [
      "modified string yusuf\n"
     ]
    }
   ],
   "source": [
    "string=input(\"enter the string\")\n",
    "old_string=input(\"enter the old string\")\n",
    "new_string=input(\"enter the new string\")\n",
    "modified_string=string.replace(old_string,new_string)\n",
    "print(\"modified string\",modified_string)"
   ]
  },
  {
   "cell_type": "markdown",
   "metadata": {},
   "source": [
    "11.count the occurences of the word in string."
   ]
  },
  {
   "cell_type": "code",
   "execution_count": 212,
   "metadata": {},
   "outputs": [
    {
     "name": "stdout",
     "output_type": "stream",
     "text": [
      "target word is possible,print the result1\n"
     ]
    }
   ],
   "source": [
    "def count_occurences(input_string,target_word):\n",
    "    occurence_count=0\n",
    "    words=input_string.split()\n",
    "    for char  in words:\n",
    "        if char==target_word:\n",
    "            occurence_count+=1\n",
    "    return occurence_count\n",
    "input_string=\"how is possible\"\n",
    "target_word='possible'\n",
    "result=count_occurences(input_string,target_word)\n",
    "print(f\"target word is {target_word},print the result{result}\")"
   ]
  },
  {
   "cell_type": "markdown",
   "metadata": {},
   "source": [
    "12.find the first occurences of the word in string:"
   ]
  },
  {
   "cell_type": "code",
   "execution_count": 221,
   "metadata": {},
   "outputs": [
    {
     "name": "stdout",
     "output_type": "stream",
     "text": [
      "8\n"
     ]
    }
   ],
   "source": [
    "def find_first_occurence(text,word):\n",
    "  index=text.find(word)\n",
    "  if index==-1:\n",
    "     return None\n",
    "  return index\n",
    "text=\"mohseen shaikh is here\"\n",
    "word='shaikh'\n",
    "result= find_first_occurence(text,word)\n",
    "print(result)"
   ]
  },
  {
   "cell_type": "markdown",
   "metadata": {},
   "source": [
    "13.find the last occurences of the word in string."
   ]
  },
  {
   "cell_type": "code",
   "execution_count": 233,
   "metadata": {},
   "outputs": [
    {
     "name": "stdout",
     "output_type": "stream",
     "text": [
      "18\n"
     ]
    }
   ],
   "source": [
    "def find_last_ocurences(text,word):\n",
    "    index =text.rfind(word)\n",
    "    if index == -1:\n",
    "        return None\n",
    "    return index\n",
    "text=\"hey welcome to my world\"\n",
    "word='world'\n",
    "result=find_last_ocurences(text,word)\n",
    "print(result)"
   ]
  },
  {
   "cell_type": "markdown",
   "metadata": {},
   "source": [
    "14.split a string into a list of words."
   ]
  },
  {
   "cell_type": "code",
   "execution_count": 236,
   "metadata": {},
   "outputs": [
    {
     "name": "stdout",
     "output_type": "stream",
     "text": [
      "['hello', 'uncle', 'i', 'am', 'mohseen']\n"
     ]
    }
   ],
   "source": [
    "def split_string_into_words_(text):\n",
    "    words_list=text.split()\n",
    "    return words_list\n",
    "text=\"hello uncle i am mohseen \"\n",
    "words=split_string_into_words_(text)\n",
    "print(words)"
   ]
  },
  {
   "cell_type": "markdown",
   "metadata": {},
   "source": [
    "15.join  a list of words into string"
   ]
  },
  {
   "cell_type": "code",
   "execution_count": 237,
   "metadata": {},
   "outputs": [
    {
     "name": "stdout",
     "output_type": "stream",
     "text": [
      "mohseenshasikhishere\n"
     ]
    }
   ],
   "source": [
    "def join_list_of_words(words_list):\n",
    " joined_string=''.join(words_list)\n",
    " return joined_string\n",
    "input_string=\"mohseen\",\"shasikh\",\"is\",\"here\"\n",
    "result=join_list_of_words(input_string)\n",
    "print(result)"
   ]
  },
  {
   "cell_type": "markdown",
   "metadata": {},
   "source": [
    "16.convert a string where a words are seprated by spaces to one where words are seprated by underscores."
   ]
  },
  {
   "cell_type": "code",
   "execution_count": 244,
   "metadata": {},
   "outputs": [
    {
     "name": "stdout",
     "output_type": "stream",
     "text": [
      "_m_o_h_s_e_e_n_ _s_h_a_i_k_h_\n"
     ]
    }
   ],
   "source": [
    "def convert_string_underscores_seprated(text):\n",
    "    convert_string= text.replace(\"\",\"_\")\n",
    "    return convert_string\n",
    "text=\"mohseen shaikh\"\n",
    "result=convert_string_underscores_seprated(text)\n",
    "print(result)"
   ]
  },
  {
   "cell_type": "markdown",
   "metadata": {},
   "source": [
    "17.check if string is starts with a specific word or phrase."
   ]
  },
  {
   "cell_type": "code",
   "execution_count": 251,
   "metadata": {},
   "outputs": [
    {
     "name": "stdout",
     "output_type": "stream",
     "text": [
      "the text starts with prefix\n"
     ]
    }
   ],
   "source": [
    "def starts_with_pharases_or_word(text,prefix):\n",
    "    start=text.startswith(prefix)\n",
    "    return start\n",
    "text=\"mohseen shaikh\"\n",
    "prefix=\"mohseen\"\n",
    "result=starts_with_pharases_or_word(text,prefix)\n",
    "if result:\n",
    "    print(\"the text starts with prefix\")\n",
    "else:\n",
    "    print(\"the text not starts with prefix\")"
   ]
  },
  {
   "cell_type": "markdown",
   "metadata": {},
   "source": [
    "18.check if string  ends with a specific word or phrase"
   ]
  },
  {
   "cell_type": "code",
   "execution_count": 252,
   "metadata": {},
   "outputs": [
    {
     "name": "stdout",
     "output_type": "stream",
     "text": [
      " the text not ends with suffix\n"
     ]
    }
   ],
   "source": [
    "def ends_with_word_or_phrase(text,suffix):\n",
    "    ends=text.endswith(suffix)\n",
    "    return ends\n",
    "text=\"mohsen shaikh\"\n",
    "suffix=\"mohseen\"\n",
    "result=ends_with_word_or_phrase(text,suffix)\n",
    "if result:\n",
    "    print(\"the text ends with suffix\")\n",
    "else:\n",
    "    print(\" the text not ends with suffix\")"
   ]
  },
  {
   "cell_type": "markdown",
   "metadata": {},
   "source": [
    "19.convert  a string to title case.\n"
   ]
  },
  {
   "cell_type": "code",
   "execution_count": 254,
   "metadata": {},
   "outputs": [
    {
     "name": "stdout",
     "output_type": "stream",
     "text": [
      "title case: Hello And Welcome To Physics Wallah Skils\n"
     ]
    }
   ],
   "source": [
    "def convert_to_title_case(text):\n",
    "    title_case=text.title()\n",
    "    return title_case\n",
    "text=\"hello and welcome to PhYSICS wallah skils\"\n",
    "title_case_result=convert_to_title_case(text)\n",
    "print(\"title case:\",title_case_result)"
   ]
  },
  {
   "cell_type": "markdown",
   "metadata": {},
   "source": [
    "20.find the longest word in string."
   ]
  },
  {
   "cell_type": "code",
   "execution_count": 74,
   "metadata": {},
   "outputs": [
    {
     "name": "stdout",
     "output_type": "stream",
     "text": [
      "longest word: here\n"
     ]
    }
   ],
   "source": [
    "def find_longest_word(text):\n",
    "     words=text.split()\n",
    "     longest_word=\"\"\n",
    "     max_length= 0\n",
    "     for word in words:\n",
    "          if len(word)>max_length:\n",
    "           max_length=len(word)\n",
    "           longest_word=word\n",
    "          return longest_word\n",
    "text=\"here is an example of some long word\"\n",
    "longest_word=find_longest_word(text)\n",
    "print(\"longest word:\",longest_word)"
   ]
  },
  {
   "cell_type": "markdown",
   "metadata": {},
   "source": [
    "21.find the shortest word"
   ]
  },
  {
   "cell_type": "code",
   "execution_count": 36,
   "metadata": {},
   "outputs": [
    {
     "name": "stdout",
     "output_type": "stream",
     "text": [
      "shortest word is : to\n"
     ]
    }
   ],
   "source": [
    "def find_shortest_word_(text):\n",
    "    words=text.split()\n",
    "    shortest_word=None\n",
    "    min_length= float('inf')\n",
    "    for word in words:\n",
    "       if len(word)<min_length:\n",
    "        min_length=len(word)\n",
    "        shortest_word=word\n",
    "    return shortest_word\n",
    "text=\"welcome to my class\"\n",
    "shortest_word= find_shortest_word_(text)\n",
    "print(\"shortest word is :\",shortest_word)"
   ]
  },
  {
   "cell_type": "markdown",
   "metadata": {},
   "source": [
    "22.reverse the order of the words in a string:"
   ]
  },
  {
   "cell_type": "code",
   "execution_count": null,
   "metadata": {},
   "outputs": [],
   "source": [
    "def find_shortest_word_(text):\n",
    "    words=text.split()\n",
    "    shortest_word=None\n",
    "    min_length= float('inf')\n",
    "    for word in words:\n",
    "       if len(word)<min_length:\n",
    "        min_length=len(word)\n",
    "        shortest_word=word\n",
    "    return shortest_word\n",
    "text=\"welcome to my class\"\n",
    "shortest_word= find_shortest_word_(text)\n",
    "print(\"shortest word is :\",shortest_word)"
   ]
  },
  {
   "cell_type": "markdown",
   "metadata": {},
   "source": [
    "23.check if a string is alphanumeric."
   ]
  },
  {
   "cell_type": "code",
   "execution_count": 79,
   "metadata": {},
   "outputs": [
    {
     "name": "stdout",
     "output_type": "stream",
     "text": [
      "The string is not alphanumeric.\n"
     ]
    }
   ],
   "source": [
    "def is_alphanumeric(text):\n",
    "    return text.isalnum()\n",
    "text =\"767@\"\n",
    "result = is_alphanumeric(text)\n",
    "if result:\n",
    "    print(\"The string is alphanumeric.\")\n",
    "else:\n",
    "    print(\"The string is not alphanumeric.\")"
   ]
  },
  {
   "cell_type": "markdown",
   "metadata": {},
   "source": [
    "24.extract all digits from string."
   ]
  },
  {
   "cell_type": "code",
   "execution_count": 103,
   "metadata": {},
   "outputs": [
    {
     "name": "stdout",
     "output_type": "stream",
     "text": [
      "extracted digits: 6386104092\n"
     ]
    }
   ],
   "source": [
    "def extract_digits(text):\n",
    "    digits=\"\"\n",
    "    for char in text:\n",
    "        if char.isdigit():\n",
    "          digits +=char\n",
    "    return digits\n",
    "text=\"hello6386104092\"\n",
    "result=extract_digits(text)\n",
    "print(\"extracted digits:\",result)"
   ]
  },
  {
   "cell_type": "markdown",
   "metadata": {},
   "source": [
    "25. extract all alphabets from a string."
   ]
  },
  {
   "cell_type": "code",
   "execution_count": 111,
   "metadata": {},
   "outputs": [
    {
     "name": "stdout",
     "output_type": "stream",
     "text": [
      "hello\n"
     ]
    }
   ],
   "source": [
    "def extract_alphabets(text):\n",
    "    alphabets=\"\".join([char for char in text if char.isalpha()])\n",
    "    return alphabets\n",
    "text=\"hello9878756\"\n",
    "result=extract_alphabets(text)\n",
    "print(result)"
   ]
  },
  {
   "cell_type": "markdown",
   "metadata": {},
   "source": [
    "26.count the number of uppercase string\n"
   ]
  },
  {
   "cell_type": "code",
   "execution_count": 147,
   "metadata": {},
   "outputs": [
    {
     "name": "stdout",
     "output_type": "stream",
     "text": [
      "13\n"
     ]
    }
   ],
   "source": [
    "def count_uppercase(input_string):\n",
    "    uppercase_count = sum(1 for char in input_string if char.isupper())\n",
    "    return uppercase_count\n",
    "input_string = \"MOHSEENSHAIKH\"\n",
    "result = count_uppercase(input_string)\n",
    "print(result)"
   ]
  },
  {
   "cell_type": "markdown",
   "metadata": {},
   "source": [
    "27. count the number of lowercase string"
   ]
  },
  {
   "cell_type": "code",
   "execution_count": 151,
   "metadata": {},
   "outputs": [
    {
     "name": "stdout",
     "output_type": "stream",
     "text": [
      "7\n"
     ]
    }
   ],
   "source": [
    "def count_lowercase(text):\n",
    "    lowercase_count =sum(1 for char in text if char.islower())\n",
    "    return lowercase_count\n",
    "text=\"mohseen\"\n",
    "result=count_lowercase(text)\n",
    "print(result)"
   ]
  },
  {
   "cell_type": "markdown",
   "metadata": {},
   "source": [
    "28.swap the case of each character in a string"
   ]
  },
  {
   "cell_type": "code",
   "execution_count": 153,
   "metadata": {},
   "outputs": [
    {
     "name": "stdout",
     "output_type": "stream",
     "text": [
      "MOhSEEN SHAIKH\n"
     ]
    }
   ],
   "source": [
    "def swap_characters(text):\n",
    "    swap_case=text.swapcase()\n",
    "    return swap_case\n",
    "text=\"moHseen shaikh\"\n",
    "result=swap_characters(text)\n",
    "print(result)"
   ]
  },
  {
   "cell_type": "markdown",
   "metadata": {},
   "source": [
    "29.remove a specific word from a string."
   ]
  },
  {
   "cell_type": "code",
   "execution_count": 154,
   "metadata": {},
   "outputs": [
    {
     "name": "stdout",
     "output_type": "stream",
     "text": [
      "helloandtopwskills\n"
     ]
    }
   ],
   "source": [
    "def remove_word(text,word_to_remove):\n",
    "    words=text.split()\n",
    "    filtered_string=\"\".join([word for word in words if word!=word_to_remove])\n",
    "    return filtered_string\n",
    "text=\"hello and welcome to pw skills\"\n",
    "word_to_remove=\"welcome\"\n",
    "result=remove_word(text,word_to_remove)\n",
    "print(result)"
   ]
  },
  {
   "cell_type": "markdown",
   "metadata": {},
   "source": [
    "30.check if a string is a valid email address"
   ]
  },
  {
   "cell_type": "code",
   "execution_count": 4,
   "metadata": {},
   "outputs": [
    {
     "name": "stdout",
     "output_type": "stream",
     "text": [
      "True\n",
      "False\n"
     ]
    }
   ],
   "source": [
    "import re\n",
    "def is_valid_email(email):\n",
    "    pattern=r'^[\\w\\.-]+@[\\w\\.-]+\\.\\w+$' \n",
    "    if re.match(pattern,email):\n",
    "        return True\n",
    "    else:\n",
    "        return False\n",
    "email1 = \"example@email.com\"\n",
    "email2 = \"invalid-email\"\n",
    "result1 = is_valid_email(email1)\n",
    "result2 = is_valid_email(email2)\n",
    "print(result1)\n",
    "print(result2)"
   ]
  },
  {
   "cell_type": "markdown",
   "metadata": {},
   "source": [
    "31. extarct the username from an email address"
   ]
  },
  {
   "cell_type": "code",
   "execution_count": 1,
   "metadata": {},
   "outputs": [
    {
     "name": "stdout",
     "output_type": "stream",
     "text": [
      "example\n"
     ]
    }
   ],
   "source": [
    "def extract_username(email):\n",
    "    username = email.split('@')[0]  # Split the email address at \"@\" and take the first part\n",
    "    return username\n",
    "\n",
    "# Example email address\n",
    "email = \"example@email.com\"\n",
    "result = extract_username(email)\n",
    "print(result)"
   ]
  },
  {
   "cell_type": "markdown",
   "metadata": {},
   "source": [
    "32.extract domain name from an email address string"
   ]
  },
  {
   "cell_type": "code",
   "execution_count": 3,
   "metadata": {},
   "outputs": [
    {
     "name": "stdout",
     "output_type": "stream",
     "text": [
      "email.com\n"
     ]
    }
   ],
   "source": [
    "def extract_domain(email):\n",
    "    domain = email.split('@')[1] \n",
    "    return domain\n",
    "email = \"example@email.com\"\n",
    "result = extract_domain(email)\n",
    "print(result)"
   ]
  },
  {
   "cell_type": "markdown",
   "metadata": {},
   "source": [
    "33.Replace a multiple spaces  in a string with a single space"
   ]
  },
  {
   "cell_type": "code",
   "execution_count": 1,
   "metadata": {},
   "outputs": [
    {
     "name": "stdout",
     "output_type": "stream",
     "text": [
      "Hello world! How are you?\n"
     ]
    }
   ],
   "source": [
    "def replace_multiple_spaces(input_string):\n",
    "    cleaned_string = ' '.join(input_string.split())  # Split the string at spaces and then join using a single space\n",
    "    return cleaned_string\n",
    "\n",
    "# Example input string with multiple spaces\n",
    "input_string = \"Hello     world!   How   are   you?\"\n",
    "result = replace_multiple_spaces(input_string)\n",
    "print(result)"
   ]
  },
  {
   "cell_type": "markdown",
   "metadata": {},
   "source": [
    "34.check if a string is valid url"
   ]
  },
  {
   "cell_type": "code",
   "execution_count": 12,
   "metadata": {},
   "outputs": [
    {
     "name": "stdout",
     "output_type": "stream",
     "text": [
      "True\n",
      "False\n"
     ]
    }
   ],
   "source": [
    "from urllib.parse import urlparse\n",
    "\n",
    "def is_valid_url(url):\n",
    "    try:\n",
    "        result = urlparse(url)\n",
    "        return all([result.scheme, result.netloc])  # Check if both scheme and netloc are present\n",
    "    except ValueError:\n",
    "        return False\n",
    "url1 = \"https://www.example.com\"\n",
    "url2 = \"invalid-url\"\n",
    "result1 = is_valid_url(url1)\n",
    "result2 = is_valid_url(url2)\n",
    "print(result1)  # Should print True\n",
    "print(result2)  # Should print False"
   ]
  },
  {
   "cell_type": "markdown",
   "metadata": {},
   "source": [
    "35. extarct the  protocal http or https from url string"
   ]
  },
  {
   "cell_type": "code",
   "execution_count": 18,
   "metadata": {},
   "outputs": [
    {
     "name": "stdout",
     "output_type": "stream",
     "text": [
      "Protocol 1: https\n",
      "Protocol 2: http\n",
      "Protocol 3: ftp\n"
     ]
    }
   ],
   "source": [
    "def extract_protocol(url):\n",
    "    protocol_end=url.find(\":/\")\n",
    "\n",
    "    if protocol_end !=-1:\n",
    "        protocol=url[:protocol_end]\n",
    "        return protocol\n",
    "    else:\n",
    "            None\n",
    "url1 = \"https://www.example.com\"\n",
    "url2 = \"http://google.com\"\n",
    "url3 = \"ftp://ftp.example.com\"\n",
    "\n",
    "protocol1 = extract_protocol(url1)\n",
    "protocol2 = extract_protocol(url2)\n",
    "protocol3 = extract_protocol(url3)\n",
    "\n",
    "print(\"Protocol 1:\", protocol1)\n",
    "print(\"Protocol 2:\", protocol2)\n",
    "print(\"Protocol 3:\", protocol3)\n"
   ]
  },
  {
   "cell_type": "markdown",
   "metadata": {},
   "source": [
    "36 find the frequency for each character in string"
   ]
  },
  {
   "cell_type": "code",
   "execution_count": 28,
   "metadata": {},
   "outputs": [
    {
     "name": "stdout",
     "output_type": "stream",
     "text": [
      "Character: 'h', Frequency: 1\n",
      "Character: 'e', Frequency: 1\n",
      "Character: 'l', Frequency: 3\n",
      "Character: 'o', Frequency: 2\n",
      "Character: ' ', Frequency: 1\n",
      "Character: 'w', Frequency: 1\n",
      "Character: 'r', Frequency: 1\n",
      "Character: 'd', Frequency: 1\n"
     ]
    }
   ],
   "source": [
    "def character_frequency(input_string):\n",
    "    frequency = {}  \n",
    "\n",
    "    for char in input_string:\n",
    "        if char in frequency:\n",
    "            frequency[char] += 1  \n",
    "        else:\n",
    "            frequency[char] = 1  \n",
    "\n",
    "    return frequency\n",
    "\n",
    "input_str = \"hello world\"\n",
    "char_freq = character_frequency(input_str)\n",
    "for char, freq in char_freq.items():\n",
    "    print(f\"Character: '{char}', Frequency: {freq}\")"
   ]
  },
  {
   "cell_type": "markdown",
   "metadata": {},
   "source": [
    "37.Remove all punctuation from a string"
   ]
  },
  {
   "cell_type": "code",
   "execution_count": 30,
   "metadata": {},
   "outputs": [
    {
     "name": "stdout",
     "output_type": "stream",
     "text": [
      "orignal string hello!, world,\n",
      "cleaned_string hello world\n"
     ]
    }
   ],
   "source": [
    "import string\n",
    "def remove_punctuation(input_string):\n",
    "    translator =str.maketrans(\"\",\"\",string.punctuation)\n",
    "    clean_string=input_string.translate(translator)\n",
    "    return clean_string\n",
    "input_string=\"hello!, world,\"\n",
    "cleaned_string=remove_punctuation(input_string)\n",
    "print(\"orignal string\",input_string)\n",
    "print(\"cleaned_string\",cleaned_string)"
   ]
  },
  {
   "cell_type": "markdown",
   "metadata": {},
   "source": [
    "38.check if string has  contains only digits."
   ]
  },
  {
   "cell_type": "code",
   "execution_count": 36,
   "metadata": {},
   "outputs": [
    {
     "name": "stdout",
     "output_type": "stream",
     "text": [
      "False\n",
      "True\n"
     ]
    }
   ],
   "source": [
    "def check_digits(input_string):\n",
    "    return input_string.isdigit()\n",
    "string1=\"hello123\"\n",
    "string2=\"123344\"\n",
    "result1=check_digits(string1)\n",
    "result2=check_digits(string2)\n",
    "print(result1)\n",
    "print(result2)"
   ]
  },
  {
   "cell_type": "markdown",
   "metadata": {},
   "source": [
    "39.check if string has contains only alphabets."
   ]
  },
  {
   "cell_type": "code",
   "execution_count": 37,
   "metadata": {},
   "outputs": [
    {
     "name": "stdout",
     "output_type": "stream",
     "text": [
      "True\n",
      "False\n"
     ]
    }
   ],
   "source": [
    "def check_alpha(input_string):\n",
    "    return input_string.isalpha()\n",
    "string1=\"hello\"\n",
    "string2=\"hello123\"\n",
    "result1=check_alpha(string1)\n",
    "result2=check_alpha(string2)\n",
    "print(result1)\n",
    "print(result2)"
   ]
  },
  {
   "cell_type": "markdown",
   "metadata": {},
   "source": [
    "40. convert a string to a list of charcaters"
   ]
  },
  {
   "cell_type": "code",
   "execution_count": 38,
   "metadata": {},
   "outputs": [
    {
     "name": "stdout",
     "output_type": "stream",
     "text": [
      "orignal string hello world\n",
      "char_list ['h', 'e', 'l', 'l', 'o', ' ', 'w', 'o', 'r', 'l', 'd']\n"
     ]
    }
   ],
   "source": [
    "def string_list(input_string):\n",
    "    char_list=list(input_string)\n",
    "    return char_list\n",
    "input_string=\"hello world\"\n",
    "char_list=string_list(input_string)\n",
    "print(\"orignal string\",input_string)\n",
    "print(\"char_list\",char_list)"
   ]
  },
  {
   "cell_type": "markdown",
   "metadata": {},
   "source": [
    "41.check if two string are anagrams."
   ]
  },
  {
   "cell_type": "code",
   "execution_count": 43,
   "metadata": {},
   "outputs": [
    {
     "name": "stdout",
     "output_type": "stream",
     "text": [
      "'listen'and 'silent' are anagrams True\n",
      "'hello'and 'world' are anagrams False\n"
     ]
    }
   ],
   "source": [
    "def are_anagrams(str1,str2):\n",
    "    str1 = str1.replace(\" \", \"\").lower()\n",
    "    str2 = str2.replace(\" \", \"\").lower()\n",
    "    return sorted(str1)==sorted(str2)\n",
    "string1=\"listen\"\n",
    "string2=\"silent\"\n",
    "string3=\"hello\"\n",
    "string4=\"world\"\n",
    "result1 = are_anagrams(string1, string2)\n",
    "result2 = are_anagrams(string3, string4)\n",
    "print(f\"'{string1}'and '{string2}' are anagrams\",result1)\n",
    "print(f\"'{string3}'and '{string4}' are anagrams\",result2)"
   ]
  },
  {
   "cell_type": "markdown",
   "metadata": {},
   "source": [
    "42.encode a string using caesar ciphar"
   ]
  },
  {
   "cell_type": "code",
   "execution_count": 32,
   "metadata": {},
   "outputs": [
    {
     "name": "stdout",
     "output_type": "stream",
     "text": [
      "encoded text:khoor zruog\n"
     ]
    }
   ],
   "source": [
    "def caesar_ciphar(text, shift):\n",
    "    encoded_text=\"\"\n",
    "    for char in text:\n",
    "        if char.isalpha():\n",
    "            encoded_char = chr((ord(char) + shift - ord('a')) % 26 + ord('a'))\n",
    "        else:\n",
    "            encoded_char=char\n",
    "        encoded_text+=encoded_char\n",
    "    return encoded_text\n",
    "text=\"hello world\"\n",
    "shift=3\n",
    "encoded_text=caesar_ciphar(text,shift)\n",
    "print(\"encoded text:\"+encoded_text)"
   ]
  },
  {
   "cell_type": "markdown",
   "metadata": {},
   "source": [
    "43.decode a string using caesar ciphar"
   ]
  },
  {
   "cell_type": "code",
   "execution_count": 30,
   "metadata": {},
   "outputs": [
    {
     "name": "stdout",
     "output_type": "stream",
     "text": [
      "Decoded text: ilmm, world!\n"
     ]
    }
   ],
   "source": [
    "def caesar_cipher_decoder(text, shift):\n",
    "    decoded_text = \"\"\n",
    "    for char in text:\n",
    "        if char.isalpha():\n",
    "            decoded_char = chr((ord(char) - shift - ord('a')) % 26 + ord('a'))\n",
    "        else:\n",
    "            decoded_char = char\n",
    "        decoded_text += decoded_char\n",
    "    return decoded_text\n",
    "\n",
    "\n",
    "text = \"lopp, zruog!\"\n",
    "shift = 3\n",
    "\n",
    "\n",
    "decoded_text = caesar_cipher_decoder(text, shift)\n",
    "\n",
    "\n",
    "print(\"Decoded text:\", decoded_text)"
   ]
  },
  {
   "cell_type": "markdown",
   "metadata": {},
   "source": [
    "44 find the most frequent word in  a string"
   ]
  },
  {
   "cell_type": "code",
   "execution_count": 3,
   "metadata": {},
   "outputs": [
    {
     "name": "stdout",
     "output_type": "stream",
     "text": [
      "Most frequent word: hello\n"
     ]
    }
   ],
   "source": [
    "import re\n",
    "from collections import Counter\n",
    "\n",
    "def most_frequent_word(input_string):\n",
    "    clean_string = re.sub(r'[^\\w\\s]', '', input_string).lower()\n",
    "    words = clean_string.split()\n",
    "    word_counter = Counter(words)\n",
    "\n",
    "    most_common_word = word_counter.most_common(1)[0][0]\n",
    "\n",
    "    return most_common_word\n",
    "input_str = \"Hello world, hello there! How's the world?\"\n",
    "most_common = most_frequent_word(input_str)\n",
    "print(\"Most frequent word:\", most_common)"
   ]
  },
  {
   "cell_type": "markdown",
   "metadata": {},
   "source": [
    "45.Find all unique words in string"
   ]
  },
  {
   "cell_type": "code",
   "execution_count": 4,
   "metadata": {},
   "outputs": [
    {
     "name": "stdout",
     "output_type": "stream",
     "text": [
      "Unique words: {'hows', 'the', 'there', 'world', 'hello'}\n"
     ]
    }
   ],
   "source": [
    "import re\n",
    "\n",
    "def unique_words(input_string):\n",
    "    clean_string = re.sub(r'[^\\w\\s]', '', input_string).lower()\n",
    "\n",
    "    words = set(clean_string.split())\n",
    "\n",
    "    return words\n",
    "input_str = \"Hello world, hello there! How's the world?\"\n",
    "unique_word_set=unique_words(input_str)\n",
    "print(\"Unique words:\", unique_word_set)"
   ]
  },
  {
   "cell_type": "markdown",
   "metadata": {},
   "source": [
    "46.count the number syllabus in a string"
   ]
  },
  {
   "cell_type": "code",
   "execution_count": 6,
   "metadata": {},
   "outputs": [
    {
     "name": "stdout",
     "output_type": "stream",
     "text": [
      "syllabels1 hello\n",
      "syllabels2 banana\n",
      "syllabels3 syallabul\n"
     ]
    }
   ],
   "source": [
    "import re\n",
    "def count_syllabus(word):\n",
    "    vowel_group= re.findall(r'[aeiouy]+', word, re.IGNORECASE) \n",
    "    return vowel_group\n",
    "word1=\"hello\"\n",
    "word2=\"banana\"\n",
    "word3=\"syallabul\"\n",
    "syallabels1=count_syllabus(word1)\n",
    "syllabels2=count_syllabus(word2)\n",
    "syllabels3=count_syllabus(word3)\n",
    "print(\"syllabels1\",word1)\n",
    "print(\"syllabels2\",word2)\n",
    "print(\"syllabels3\",word3)\n"
   ]
  },
  {
   "cell_type": "markdown",
   "metadata": {},
   "source": [
    "47.check if a string contains only special character"
   ]
  },
  {
   "cell_type": "code",
   "execution_count": 7,
   "metadata": {},
   "outputs": [
    {
     "name": "stdout",
     "output_type": "stream",
     "text": [
      "'Hello, world!' contains special characters: True\n",
      "'This is a test.' contains special characters: True\n",
      "'Special@Characters' contains special characters: True\n"
     ]
    }
   ],
   "source": [
    "import re\n",
    "\n",
    "def contains_special_characters(input_string):\n",
    "    pattern = re.compile(r'[!@#$%^&*()_+{}\\[\\]:;<>,.?~\\\\/]')\n",
    "    match = pattern.search(input_string)\n",
    "    return bool(match)\n",
    "string1 = \"Hello, world!\"\n",
    "string2 = \"This is a test.\"\n",
    "string3 = \"Special@Characters\"\n",
    "\n",
    "result1 = contains_special_characters(string1)\n",
    "result2 = contains_special_characters(string2)\n",
    "result3 = contains_special_characters(string3)\n",
    "\n",
    "# Print the results\n",
    "print(f\"'{string1}' contains special characters:\", result1)\n",
    "print(f\"'{string2}' contains special characters:\", result2)\n",
    "print(f\"'{string3}' contains special characters:\", result3)"
   ]
  },
  {
   "cell_type": "markdown",
   "metadata": {},
   "source": [
    "48.remove the nth word from a string"
   ]
  },
  {
   "cell_type": "code",
   "execution_count": 8,
   "metadata": {},
   "outputs": [
    {
     "name": "stdout",
     "output_type": "stream",
     "text": [
      "Original string: This is an example sentence to test the function.\n",
      "Modified string: This is an sentence to test the function.\n",
      "Removed word: example\n"
     ]
    }
   ],
   "source": [
    "def remove_nth_word(input_string, n):\n",
    "    words = input_string.split()\n",
    "    if n >= 1 and n <= len(words):\n",
    "        removed_word = words.pop(n - 1)\n",
    "        modified_string = ' '.join(words)\n",
    "\n",
    "        return modified_string, removed_word\n",
    "    else:\n",
    "        return None, None\n",
    "input_str = \"This is an example sentence to test the function.\"\n",
    "n_value = 4\n",
    "modified_str, removed_word = remove_nth_word(input_str, n_value)\n",
    "print(\"Original string:\", input_str)\n",
    "if modified_str is not None:\n",
    "    print(\"Modified string:\", modified_str)\n",
    "    print(\"Removed word:\", removed_word)\n",
    "else:\n",
    "    print(\"Invalid n value.\")"
   ]
  },
  {
   "cell_type": "markdown",
   "metadata": {},
   "source": [
    "49.insert a word in  the nth position in a string"
   ]
  },
  {
   "cell_type": "code",
   "execution_count": 10,
   "metadata": {},
   "outputs": [
    {
     "name": "stdout",
     "output_type": "stream",
     "text": [
      "Original string: This is a test string.\n",
      "Modified string: This is a sample test string.\n"
     ]
    }
   ],
   "source": [
    "def insert_word_at_n(input_string, word_to_insert, n):\n",
    "    words = input_string.split()\n",
    "    if n >= 0 and n <= len(words):\n",
    "        words.insert(n, word_to_insert)\n",
    "        modified_string = ' '.join(words)\n",
    "\n",
    "        return modified_string\n",
    "    else:\n",
    "        return None\n",
    "input_str = \"This is a test string.\"\n",
    "word_to_insert = \"sample\"\n",
    "n_value = 3\n",
    "\n",
    "\n",
    "modified_str = insert_word_at_n(input_str, word_to_insert, n_value)\n",
    "\n",
    "print(\"Original string:\", input_str)\n",
    "if modified_str is not None:\n",
    "    print(\"Modified string:\", modified_str)\n",
    "else:\n",
    "    print(\"Invalid n value.\")"
   ]
  },
  {
   "cell_type": "markdown",
   "metadata": {},
   "source": [
    "50. convert a csv string to a list of lists"
   ]
  },
  {
   "cell_type": "code",
   "execution_count": 18,
   "metadata": {},
   "outputs": [
    {
     "name": "stdout",
     "output_type": "stream",
     "text": [
      "['Name', ' Age', ' Country']\n"
     ]
    }
   ],
   "source": [
    "def csv_string_to_list(csv_string):\n",
    "    lines=csv_string.split('\\n')\n",
    "    result=[]\n",
    "    for line in lines:\n",
    "        fields = line.split(',')\n",
    "        result.append(fields)\n",
    "        return result\n",
    "csv_data = \"Name, Age, Country\\nJohn, 25, USA\\nAlice, 30, Canada\\nBob, 22, UK\"\n",
    "list_of_lists = csv_string_to_list(csv_data)\n",
    "for row in list_of_lists:\n",
    "    print(row)"
   ]
  },
  {
   "cell_type": "markdown",
   "metadata": {},
   "source": [
    "LIST PROBLEM"
   ]
  },
  {
   "cell_type": "markdown",
   "metadata": {},
   "source": [
    "1.create a list with integers 1 to 10"
   ]
  },
  {
   "cell_type": "code",
   "execution_count": 6,
   "metadata": {},
   "outputs": [
    {
     "name": "stdout",
     "output_type": "stream",
     "text": [
      "[1, 2, 3, 4, 5, 6, 7, 8, 9, 10]\n"
     ]
    }
   ],
   "source": [
    "list1=[ i for i in range(1,11)]\n",
    "print(list1)"
   ]
  },
  {
   "cell_type": "markdown",
   "metadata": {},
   "source": [
    "2.find the length of list without using len() function"
   ]
  },
  {
   "cell_type": "code",
   "execution_count": 13,
   "metadata": {},
   "outputs": [
    {
     "name": "stdout",
     "output_type": "stream",
     "text": [
      "length of list: 5\n"
     ]
    }
   ],
   "source": [
    "def custom_len(input_list):\n",
    "    count=0\n",
    "    for _ in  input_list:\n",
    "        count+=1\n",
    "    return count\n",
    "my_list=[10,20,30,40,50]\n",
    "length=custom_len(my_list)\n",
    "print(\"length of list:\",length)"
   ]
  },
  {
   "cell_type": "markdown",
   "metadata": {},
   "source": [
    "3.append an element at the end of a list"
   ]
  },
  {
   "cell_type": "code",
   "execution_count": 21,
   "metadata": {},
   "outputs": [
    {
     "name": "stdout",
     "output_type": "stream",
     "text": [
      "update list: [10, 20, 30, 40]\n"
     ]
    }
   ],
   "source": [
    "list2=[10,20,30]\n",
    "new_element=40\n",
    "list2.append(new_element)\n",
    "print(\"update list:\",list2)"
   ]
  },
  {
   "cell_type": "markdown",
   "metadata": {},
   "source": [
    "4.insert an element at a specifc index in a  list"
   ]
  },
  {
   "cell_type": "code",
   "execution_count": 23,
   "metadata": {},
   "outputs": [
    {
     "name": "stdout",
     "output_type": "stream",
     "text": [
      "updated list: [100, 400, 200, 300]\n"
     ]
    }
   ],
   "source": [
    "my_list=[100,200,300]\n",
    "new_element=400\n",
    "inser_element=1\n",
    "my_list.insert(inser_element,new_element)\n",
    "print(\"updated list:\",my_list)"
   ]
  },
  {
   "cell_type": "markdown",
   "metadata": {},
   "source": [
    "5.Remove an element from a list by its value"
   ]
  },
  {
   "cell_type": "code",
   "execution_count": 25,
   "metadata": {},
   "outputs": [
    {
     "name": "stdout",
     "output_type": "stream",
     "text": [
      "[10, 30, 40]\n"
     ]
    }
   ],
   "source": [
    "my_list=[10,20,30,40]\n",
    "remove_element=20\n",
    "my_list.remove(remove_element)\n",
    "print(my_list)"
   ]
  },
  {
   "cell_type": "markdown",
   "metadata": {},
   "source": [
    "6.Remove an element from a list by its index"
   ]
  },
  {
   "cell_type": "code",
   "execution_count": 26,
   "metadata": {},
   "outputs": [
    {
     "name": "stdout",
     "output_type": "stream",
     "text": [
      "[100, 200, 400]\n"
     ]
    }
   ],
   "source": [
    "my_list=[100,200,300,400]\n",
    "element_remove_index=2\n",
    "my_list.pop(element_remove_index)\n",
    "print(my_list)"
   ]
  },
  {
   "cell_type": "markdown",
   "metadata": {},
   "source": [
    "7. check if an elemnt exist in a list"
   ]
  },
  {
   "cell_type": "code",
   "execution_count": 28,
   "metadata": {},
   "outputs": [
    {
     "name": "stdout",
     "output_type": "stream",
     "text": [
      "10 exist in the list\n"
     ]
    }
   ],
   "source": [
    "my_list=[10,20,30,40]\n",
    "check_element=10\n",
    "if check_element in my_list:\n",
    "    print(f\"{check_element} exist in the list\")\n",
    "else:\n",
    "    print(f\"{check_element} does not exist in the list\")"
   ]
  },
  {
   "cell_type": "markdown",
   "metadata": {},
   "source": [
    "8.find the index of the first occurence of an element in the list"
   ]
  },
  {
   "cell_type": "code",
   "execution_count": 33,
   "metadata": {},
   "outputs": [
    {
     "name": "stdout",
     "output_type": "stream",
     "text": [
      "30 is 3\n"
     ]
    }
   ],
   "source": [
    "my_list=[40,50,60,30,20,10]\n",
    "occurence_of_element=30\n",
    "index=my_list.index(occurence_of_element)\n",
    "print(f\"{occurence_of_element} is {index}\")"
   ]
  },
  {
   "cell_type": "markdown",
   "metadata": {},
   "source": [
    "9. count the occurences of an element in a list"
   ]
  },
  {
   "cell_type": "code",
   "execution_count": 41,
   "metadata": {},
   "outputs": [
    {
     "name": "stdout",
     "output_type": "stream",
     "text": [
      "20 is 3\n"
     ]
    }
   ],
   "source": [
    "my_list=[10,20,30,20,20,40,50]\n",
    "element_count=20\n",
    "count=my_list.count(element_count)\n",
    "print(f\"{element_count} is {count}\")"
   ]
  },
  {
   "cell_type": "markdown",
   "metadata": {},
   "source": [
    "10.Reverse the order of an element in a list"
   ]
  },
  {
   "cell_type": "code",
   "execution_count": 42,
   "metadata": {},
   "outputs": [
    {
     "name": "stdout",
     "output_type": "stream",
     "text": [
      "reversed list [50, 40, 30, 20, 10]\n"
     ]
    }
   ],
   "source": [
    "my_list=[10,20,30,40,50]\n",
    "my_list.reverse()\n",
    "print(\"reversed list\",my_list)"
   ]
  },
  {
   "cell_type": "markdown",
   "metadata": {},
   "source": [
    "11. sort the list in ascending order"
   ]
  },
  {
   "cell_type": "code",
   "execution_count": 44,
   "metadata": {},
   "outputs": [
    {
     "name": "stdout",
     "output_type": "stream",
     "text": [
      "sorted list [10, 20, 30, 40, 50]\n"
     ]
    }
   ],
   "source": [
    "my_list=[20,30,10,40,50]\n",
    "my_list.sort()\n",
    "print(\"sorted list\",my_list)"
   ]
  },
  {
   "cell_type": "markdown",
   "metadata": {},
   "source": [
    "12.sort the list in decending order"
   ]
  },
  {
   "cell_type": "code",
   "execution_count": 46,
   "metadata": {},
   "outputs": [
    {
     "name": "stdout",
     "output_type": "stream",
     "text": [
      "sorted list in descending order [50, 30, 20, 20, 10, 10]\n"
     ]
    }
   ],
   "source": [
    "my_list=[10,20,30,20,10,50]\n",
    "my_list.sort(reverse=True)\n",
    "print(\"sorted list in descending order\",my_list)"
   ]
  },
  {
   "cell_type": "markdown",
   "metadata": {},
   "source": [
    "13.create a list of even number 1 to 20"
   ]
  },
  {
   "cell_type": "code",
   "execution_count": 47,
   "metadata": {},
   "outputs": [
    {
     "name": "stdout",
     "output_type": "stream",
     "text": [
      "list of even number [2, 4, 6, 8, 10, 12, 14, 16, 18, 20]\n"
     ]
    }
   ],
   "source": [
    "my_list=[x for x in range(2,21,2)]\n",
    "print(\"list of even number\",my_list)"
   ]
  },
  {
   "cell_type": "markdown",
   "metadata": {},
   "source": [
    "14.create a list of odd number 1 to 20"
   ]
  },
  {
   "cell_type": "code",
   "execution_count": 48,
   "metadata": {},
   "outputs": [
    {
     "name": "stdout",
     "output_type": "stream",
     "text": [
      "list of odd number [1, 3, 5, 7, 9, 11, 13, 15, 17, 19]\n"
     ]
    }
   ],
   "source": [
    "my_list=[x for x in range(1,21,2)]\n",
    "print(\"list of odd number\",my_list)"
   ]
  },
  {
   "cell_type": "markdown",
   "metadata": {},
   "source": [
    "15.find the sum of all elements in a list"
   ]
  },
  {
   "cell_type": "code",
   "execution_count": 52,
   "metadata": {},
   "outputs": [
    {
     "name": "stdout",
     "output_type": "stream",
     "text": [
      "60\n"
     ]
    }
   ],
   "source": [
    "my_list=[10,20,30]\n",
    "total_sum=sum(my_list)\n",
    "print(total_sum)"
   ]
  },
  {
   "cell_type": "markdown",
   "metadata": {},
   "source": [
    "16.find the maximum in a list"
   ]
  },
  {
   "cell_type": "code",
   "execution_count": 55,
   "metadata": {},
   "outputs": [
    {
     "name": "stdout",
     "output_type": "stream",
     "text": [
      "maximum value 400\n"
     ]
    }
   ],
   "source": [
    "my_list=[300,400,200]\n",
    "max_num=max(my_list)\n",
    "print(\"maximum value\",max_num)"
   ]
  },
  {
   "cell_type": "markdown",
   "metadata": {},
   "source": [
    "17.find the minimum value in a list"
   ]
  },
  {
   "cell_type": "code",
   "execution_count": 58,
   "metadata": {},
   "outputs": [
    {
     "name": "stdout",
     "output_type": "stream",
     "text": [
      "manimum list 10\n"
     ]
    }
   ],
   "source": [
    "my_list=[10,20,30,40]\n",
    "min_num=min(my_list)\n",
    "print(\"manimum list\",min_num)"
   ]
  },
  {
   "cell_type": "markdown",
   "metadata": {},
   "source": [
    "18.create a list of squares 1 to 10"
   ]
  },
  {
   "cell_type": "code",
   "execution_count": 63,
   "metadata": {},
   "outputs": [
    {
     "name": "stdout",
     "output_type": "stream",
     "text": [
      "square list [1, 4, 9, 16, 25, 36, 49, 64, 81, 100]\n"
     ]
    }
   ],
   "source": [
    "squares=[x**2 for x in range(1,11)]\n",
    "print(\"square list\", squares)"
   ]
  },
  {
   "cell_type": "markdown",
   "metadata": {},
   "source": [
    "19. create a list of random numbers"
   ]
  },
  {
   "cell_type": "code",
   "execution_count": 65,
   "metadata": {},
   "outputs": [
    {
     "name": "stdout",
     "output_type": "stream",
     "text": [
      "[27, 79, 10, 67, 11, 12, 35, 73, 47, 95]\n"
     ]
    }
   ],
   "source": [
    "import random\n",
    "random_numbers=[random.randint(1,100) for _ in range(10)]\n",
    "print(random_numbers)"
   ]
  },
  {
   "cell_type": "markdown",
   "metadata": {},
   "source": [
    "20. remove a duplicates from a list"
   ]
  },
  {
   "cell_type": "code",
   "execution_count": 66,
   "metadata": {},
   "outputs": [
    {
     "name": "stdout",
     "output_type": "stream",
     "text": [
      "[40, 10, 50, 20, 30]\n"
     ]
    }
   ],
   "source": [
    "my_list=[10,20,30,30,40,40,50]\n",
    "unique_list=list(set(my_list))\n",
    "print(unique_list)"
   ]
  },
  {
   "cell_type": "markdown",
   "metadata": {},
   "source": [
    "21.find the common element between two list"
   ]
  },
  {
   "cell_type": "code",
   "execution_count": 68,
   "metadata": {},
   "outputs": [
    {
     "name": "stdout",
     "output_type": "stream",
     "text": [
      "common element: [20, 30, 40]\n"
     ]
    }
   ],
   "source": [
    "list1=[10,20,30,40]\n",
    "list2=[20,40,50,30]\n",
    "common_element=[element for element in list1 if element in list2]\n",
    "print(\"common element:\",common_element)"
   ]
  },
  {
   "cell_type": "markdown",
   "metadata": {},
   "source": [
    "22. find the difference between two list"
   ]
  },
  {
   "cell_type": "code",
   "execution_count": 69,
   "metadata": {},
   "outputs": [
    {
     "name": "stdout",
     "output_type": "stream",
     "text": [
      "difference of list [40]\n"
     ]
    }
   ],
   "source": [
    "list1=[10,10,20,30,40]\n",
    "list2=[10,20,30,20,10]\n",
    "difference_list=list(set(list1).difference(list2))\n",
    "print(\"difference of list\",difference_list)"
   ]
  },
  {
   "cell_type": "markdown",
   "metadata": {},
   "source": [
    "23. merged two list"
   ]
  },
  {
   "cell_type": "code",
   "execution_count": 71,
   "metadata": {},
   "outputs": [
    {
     "name": "stdout",
     "output_type": "stream",
     "text": [
      "merged list [10, 20, 30, 'mohseen', 10, 70, 30, 'yaseen']\n"
     ]
    }
   ],
   "source": [
    "list1=[10,20,30,\"mohseen\"]\n",
    "list2=[10,70,30,\"yaseen\"]\n",
    "merged_list=list1+list2\n",
    "print(\"merged list\", merged_list)"
   ]
  },
  {
   "cell_type": "markdown",
   "metadata": {},
   "source": [
    "24.multiply a list by 2"
   ]
  },
  {
   "cell_type": "code",
   "execution_count": 75,
   "metadata": {},
   "outputs": [
    {
     "name": "stdout",
     "output_type": "stream",
     "text": [
      "[20, 60, 80, 120]\n"
     ]
    }
   ],
   "source": [
    "list1=[10,30,40,60]\n",
    "multply_list=[x*2 for x in (list1)]\n",
    "print(multply_list)"
   ]
  },
  {
   "cell_type": "markdown",
   "metadata": {},
   "source": [
    "25. filter out all even numbers"
   ]
  },
  {
   "cell_type": "code",
   "execution_count": 77,
   "metadata": {},
   "outputs": [
    {
     "name": "stdout",
     "output_type": "stream",
     "text": [
      "filtered out [89, 65, 23]\n"
     ]
    }
   ],
   "source": [
    "my_list=[76,89,65,34,23]\n",
    "filtered_out=[x for x in my_list if x%2 !=0]\n",
    "print(f\"filtered out\",filtered_out)"
   ]
  },
  {
   "cell_type": "markdown",
   "metadata": {},
   "source": [
    "26 convert a list of string into list of integers"
   ]
  },
  {
   "cell_type": "code",
   "execution_count": 89,
   "metadata": {},
   "outputs": [
    {
     "name": "stdout",
     "output_type": "stream",
     "text": [
      "convert list [23, 32, 21, 43, 65]\n"
     ]
    }
   ],
   "source": [
    "my_list=['23','32','21','43','65']\n",
    "convert_list=[int(x) for x in my_list ]\n",
    "print(\"convert list\", convert_list)"
   ]
  },
  {
   "cell_type": "markdown",
   "metadata": {},
   "source": [
    "27. convert a list of integers into list of string"
   ]
  },
  {
   "cell_type": "code",
   "execution_count": 91,
   "metadata": {},
   "outputs": [
    {
     "name": "stdout",
     "output_type": "stream",
     "text": [
      "convert list ['23', '32', '21', '43', '65']\n"
     ]
    }
   ],
   "source": [
    "my_list=[23,32,21,43,65]\n",
    "convert_list=[str(x) for x in my_list ]\n",
    "print(\"convert list\", convert_list)"
   ]
  },
  {
   "cell_type": "markdown",
   "metadata": {},
   "source": [
    "28.flatten a nested list"
   ]
  },
  {
   "cell_type": "code",
   "execution_count": 102,
   "metadata": {},
   "outputs": [
    {
     "name": "stdout",
     "output_type": "stream",
     "text": [
      "Flattened list: [1, 2, 3, 4, 5, 6, 7, 8, 9]\n"
     ]
    }
   ],
   "source": [
    "nested_list = [[1, 2, 3], [4, 5], [6, 7, 8, 9]]\n",
    "def flatten_list(nested):\n",
    "    flattened = []\n",
    "    for sublist in nested:\n",
    "        if isinstance(sublist, list):\n",
    "            flattened.extend(flatten_list(sublist))\n",
    "        else:\n",
    "            flattened.append(sublist)\n",
    "    return flattened\n",
    "flattened_list = flatten_list(nested_list)\n",
    "print(\"Flattened list:\", flattened_list)"
   ]
  },
  {
   "cell_type": "markdown",
   "metadata": {},
   "source": [
    "29. create a list of 10 fibonacci numbers"
   ]
  },
  {
   "cell_type": "code",
   "execution_count": 114,
   "metadata": {},
   "outputs": [
    {
     "name": "stdout",
     "output_type": "stream",
     "text": [
      "First 10 Fibonacci numbers: [0, 1, 1, 2, 3, 5, 8, 13, 21, 34]\n"
     ]
    }
   ],
   "source": [
    "def generate_fibonacci(n):\n",
    "    fibonacci_list = [0, 1]  \n",
    "\n",
    "    for i in range(2, n):\n",
    "        next_fibonacci = fibonacci_list[i - 1] + fibonacci_list[i - 2]\n",
    "        fibonacci_list.append(next_fibonacci)\n",
    "\n",
    "    return fibonacci_list\n",
    "\n",
    "\n",
    "fibonacci_numbers = generate_fibonacci(10)\n",
    "\n",
    "\n",
    "print(\"First 10 Fibonacci numbers:\", fibonacci_numbers)"
   ]
  },
  {
   "cell_type": "markdown",
   "metadata": {},
   "source": [
    "30.check if list is sorted"
   ]
  },
  {
   "cell_type": "code",
   "execution_count": 120,
   "metadata": {},
   "outputs": [
    {
     "name": "stdout",
     "output_type": "stream",
     "text": [
      "list is ascending order\n"
     ]
    }
   ],
   "source": [
    "def list_is_sorted_ascending(list):\n",
    "    for i in range(1, len(list)):\n",
    "        if list[i]<list[i-1]:\n",
    "            return False\n",
    "        return True\n",
    "ascending_list=[10,20,30,40,50]\n",
    "if list_is_sorted_ascending(ascending_list):\n",
    "    print(\"list is ascending order\")\n",
    "else:\n",
    "    print(\"list is not in aecending order\")"
   ]
  },
  {
   "cell_type": "markdown",
   "metadata": {},
   "source": [
    "31.Rotate a list to the left by nth position"
   ]
  },
  {
   "cell_type": "code",
   "execution_count": 121,
   "metadata": {},
   "outputs": [
    {
     "name": "stdout",
     "output_type": "stream",
     "text": [
      "Rotated list: [3, 4, 5, 6, 1, 2]\n"
     ]
    }
   ],
   "source": [
    "def rotate_left(lst, n):\n",
    "    n = n % len(lst) \n",
    "    rotated = lst[n:] + lst[:n]\n",
    "    return rotated\n",
    "\n",
    "my_list = [1, 2, 3, 4, 5, 6]\n",
    "\n",
    "\n",
    "n = 2\n",
    "rotated_list = rotate_left(my_list, n)\n",
    "\n",
    "print(\"Rotated list:\", rotated_list)"
   ]
  },
  {
   "cell_type": "markdown",
   "metadata": {},
   "source": [
    "32.Rotate a list to the Right by nth position"
   ]
  },
  {
   "cell_type": "code",
   "execution_count": 128,
   "metadata": {},
   "outputs": [
    {
     "name": "stdout",
     "output_type": "stream",
     "text": [
      "rotated right [6, 7, 1, 2, 3, 4, 5]\n"
     ]
    }
   ],
   "source": [
    "def rotate_right(list,n):\n",
    "    n=n%len(list)\n",
    "    rotated=list[-n:]+list[:-n]\n",
    "    return rotated\n",
    "my_list=[1,2,3,4,5,6,7]\n",
    "rotated_list=rotate_right(my_list,n)\n",
    "print(\"rotated right\",rotated_list)"
   ]
  },
  {
   "cell_type": "markdown",
   "metadata": {},
   "source": [
    "33. create a list of prime numbers to 50 "
   ]
  },
  {
   "cell_type": "code",
   "execution_count": 149,
   "metadata": {},
   "outputs": [
    {
     "name": "stdout",
     "output_type": "stream",
     "text": [
      "List of prime numbers up to 50: [2, 3, 5, 7, 11, 13, 17, 19, 23, 29, 31, 37, 41, 43, 47]\n"
     ]
    }
   ],
   "source": [
    "def is_prime(num):\n",
    "    if num <= 1:\n",
    "        return False\n",
    "    if num <= 3:\n",
    "        return True\n",
    "    if num % 2 == 0 or num % 3 == 0:\n",
    "        return False\n",
    "    i = 5\n",
    "    while i * i <= num:\n",
    "        if num % i == 0 or num % (i + 2) == 0:\n",
    "            return False\n",
    "        i += 6\n",
    "    return True\n",
    "prime_numbers = [num for num in range(2, 51) if is_prime(num)]\n",
    "print(\"List of prime numbers up to 50:\", prime_numbers)"
   ]
  },
  {
   "cell_type": "markdown",
   "metadata": {},
   "source": [
    "34.split a list into chunks of size n"
   ]
  },
  {
   "cell_type": "code",
   "execution_count": 150,
   "metadata": {},
   "outputs": [
    {
     "name": "stdout",
     "output_type": "stream",
     "text": [
      "List of prime numbers up to 50: [2, 3, 5, 7, 11, 13, 17, 19, 23, 29, 31, 37, 41, 43, 47]\n"
     ]
    }
   ],
   "source": [
    "def sieve_of_eratosthenes(limit):\n",
    "    primes = []\n",
    "    is_prime = [True] * (limit + 1)\n",
    "    is_prime[0] = is_prime[1] = False\n",
    "\n",
    "    for num in range(2, int(limit ** 0.5) + 1):\n",
    "        if is_prime[num]:\n",
    "            primes.append(num)\n",
    "            for multiple in range(num * num, limit + 1, num):\n",
    "                is_prime[multiple] = False\n",
    "\n",
    "    for num in range(int(limit ** 0.5) + 1, limit + 1):\n",
    "        if is_prime[num]:\n",
    "            primes.append(num)\n",
    "\n",
    "    return primes\n",
    "\n",
    "prime_numbers = sieve_of_eratosthenes(50)\n",
    "print(\"List of prime numbers up to 50:\", prime_numbers)"
   ]
  },
  {
   "cell_type": "markdown",
   "metadata": {},
   "source": [
    "35. find the second largest numbers in a list"
   ]
  },
  {
   "cell_type": "code",
   "execution_count": 151,
   "metadata": {},
   "outputs": [
    {
     "name": "stdout",
     "output_type": "stream",
     "text": [
      "Second largest number: 6\n"
     ]
    }
   ],
   "source": [
    "y_list = [10, 5, 20, 15, 30, 25]\n",
    "\n",
    "sorted_list = sorted(set(my_list))\n",
    "\n",
    "if len(sorted_list) >= 2:\n",
    "    second_largest = sorted_list[-2]\n",
    "    print(\"Second largest number:\", second_largest)\n",
    "else:\n",
    "    print(\"The list does not contain enough elements.\")"
   ]
  },
  {
   "cell_type": "markdown",
   "metadata": {},
   "source": [
    "36.replace every element in a list by its square."
   ]
  },
  {
   "cell_type": "code",
   "execution_count": 152,
   "metadata": {},
   "outputs": [
    {
     "name": "stdout",
     "output_type": "stream",
     "text": [
      "Squared list: [4, 16, 36, 64, 100]\n"
     ]
    }
   ],
   "source": [
    "my_list = [2, 4, 6, 8, 10]\n",
    "\n",
    "squared_list = [x ** 2 for x in my_list]\n",
    "\n",
    "print(\"Squared list:\", squared_list)"
   ]
  },
  {
   "cell_type": "markdown",
   "metadata": {},
   "source": [
    "37.convert a list to a dictionary where list elements becomes keys and their indices becomes value"
   ]
  },
  {
   "cell_type": "code",
   "execution_count": 153,
   "metadata": {},
   "outputs": [
    {
     "name": "stdout",
     "output_type": "stream",
     "text": [
      "Converted dictionary: {'apple': 0, 'banana': 1, 'cherry': 2, 'date': 3, 'elderberry': 4}\n"
     ]
    }
   ],
   "source": [
    "my_list = ['apple', 'banana', 'cherry', 'date', 'elderberry']\n",
    "\n",
    "\n",
    "my_dict = {element: index for index, element in enumerate(my_list)}\n",
    "\n",
    "\n",
    "print(\"Converted dictionary:\", my_dict)"
   ]
  },
  {
   "cell_type": "markdown",
   "metadata": {},
   "source": [
    "38.shuffle a list of elements randomly."
   ]
  },
  {
   "cell_type": "code",
   "execution_count": 155,
   "metadata": {},
   "outputs": [
    {
     "name": "stdout",
     "output_type": "stream",
     "text": [
      "random suffle [10, 34, 14, 15, 12]\n"
     ]
    }
   ],
   "source": [
    "import random\n",
    "my_list=[10,12,14,34,15]\n",
    "random.shuffle(my_list)\n",
    "print(\"random suffle\",my_list)"
   ]
  },
  {
   "cell_type": "markdown",
   "metadata": {},
   "source": [
    "39.create a list of first ten factorial numbers"
   ]
  },
  {
   "cell_type": "code",
   "execution_count": 157,
   "metadata": {},
   "outputs": [
    {
     "name": "stdout",
     "output_type": "stream",
     "text": [
      "factorial numbers [0, 1, 2, 6, 24, 120, 720, 5040, 40320, 362880]\n"
     ]
    }
   ],
   "source": [
    "def factorial(n):\n",
    "    if n==0 or n==1:\n",
    "        return n\n",
    "    else:\n",
    "        return n*factorial(n-1)\n",
    "factorial_numbers=[factorial(i) for i in range(10)]\n",
    "print(\"factorial numbers\",factorial_numbers)"
   ]
  },
  {
   "cell_type": "markdown",
   "metadata": {},
   "source": [
    "40 check if two list have at least one element in common"
   ]
  },
  {
   "cell_type": "code",
   "execution_count": 158,
   "metadata": {},
   "outputs": [
    {
     "name": "stdout",
     "output_type": "stream",
     "text": [
      "same element\n"
     ]
    }
   ],
   "source": [
    "def has_common_element(list1,list2):\n",
    "    for item in list1:\n",
    "        if item in list2:\n",
    "            return True\n",
    "        return False\n",
    "    \n",
    "list1=[10,20,30,40,50]\n",
    "list2=[21,10,22,44]\n",
    "if has_common_element(list1,list2):\n",
    "    print(\"same element\")\n",
    "else:\n",
    "    print(\"not same element\")"
   ]
  },
  {
   "cell_type": "markdown",
   "metadata": {},
   "source": [
    "41 Remove all elements in a list"
   ]
  },
  {
   "cell_type": "code",
   "execution_count": 160,
   "metadata": {},
   "outputs": [
    {
     "name": "stdout",
     "output_type": "stream",
     "text": [
      "my_list []\n"
     ]
    }
   ],
   "source": [
    "my_list=[10,20,30,40]\n",
    "my_list.clear()\n",
    "print(\"my_list\",my_list)"
   ]
  },
  {
   "cell_type": "markdown",
   "metadata": {},
   "source": [
    "42 Replace a negative number with zero"
   ]
  },
  {
   "cell_type": "code",
   "execution_count": 166,
   "metadata": {},
   "outputs": [
    {
     "name": "stdout",
     "output_type": "stream",
     "text": [
      "list after repalcing number from zeo [10, 0, 0, 0, 0, 9]\n"
     ]
    }
   ],
   "source": [
    "my_list=[10,-5,-6,-7,-4,9]\n",
    "for i in range(len(my_list)):\n",
    "    if my_list[i] < 0:\n",
    "        my_list[i] = 0\n",
    "print(\"list after repalcing number from zeo\",my_list)"
   ]
  },
  {
   "cell_type": "markdown",
   "metadata": {},
   "source": [
    "43.convert a string into list of words"
   ]
  },
  {
   "cell_type": "code",
   "execution_count": 168,
   "metadata": {},
   "outputs": [
    {
     "name": "stdout",
     "output_type": "stream",
     "text": [
      "['hello', 'this', 'is', 'sample', 'sentence']\n"
     ]
    }
   ],
   "source": [
    "string=\"hello this is sample sentence\"\n",
    "words_list=string.split()\n",
    "print(words_list)"
   ]
  },
  {
   "cell_type": "markdown",
   "metadata": {},
   "source": [
    "44.convert a list of words into a string"
   ]
  },
  {
   "cell_type": "code",
   "execution_count": 171,
   "metadata": {},
   "outputs": [
    {
     "name": "stdout",
     "output_type": "stream",
     "text": [
      "hello this is sample sentence\n"
     ]
    }
   ],
   "source": [
    "my_list=['hello','this','is','sample','sentence']\n",
    "words_list=' '.join(my_list)\n",
    "print(words_list)"
   ]
  },
  {
   "cell_type": "markdown",
   "metadata": {},
   "source": [
    "45.create a list of the first n power of 2"
   ]
  },
  {
   "cell_type": "code",
   "execution_count": 174,
   "metadata": {},
   "outputs": [
    {
     "name": "stdout",
     "output_type": "stream",
     "text": [
      "[1, 2, 4, 8, 16]\n"
     ]
    }
   ],
   "source": [
    "n=5\n",
    "powers=[2**i for i in range(n)]\n",
    "print(powers)"
   ]
  },
  {
   "cell_type": "markdown",
   "metadata": {},
   "source": [
    "46.find the longest string in a list of strings"
   ]
  },
  {
   "cell_type": "code",
   "execution_count": 183,
   "metadata": {},
   "outputs": [
    {
     "name": "stdout",
     "output_type": "stream",
     "text": [
      "banana\n"
     ]
    }
   ],
   "source": [
    "string_list=[\"banana\",\"apple\",\"chey\",\"mango\"]\n",
    "longest_string=\"\"\n",
    "for s in string_list:\n",
    "    if len(s)>len(longest_string):\n",
    "        longest_string=s\n",
    "        print(longest_string)"
   ]
  },
  {
   "cell_type": "markdown",
   "metadata": {},
   "source": [
    "47.find the shortest string in a list of string"
   ]
  },
  {
   "cell_type": "code",
   "execution_count": 1,
   "metadata": {},
   "outputs": [
    {
     "name": "stdout",
     "output_type": "stream",
     "text": [
      "date\n"
     ]
    }
   ],
   "source": [
    "string_list = [\"apple\", \"banana\", \"cherry\", \"date\", \"elderberry\"]\n",
    "shortest_string = string_list[0]  \n",
    "for s in string_list:\n",
    "    if len(s) <len(shortest_string):\n",
    "        shortest_string =s\n",
    "print(shortest_string)"
   ]
  },
  {
   "cell_type": "markdown",
   "metadata": {},
   "source": [
    "48.create  a list of the first n tringular numbers."
   ]
  },
  {
   "cell_type": "code",
   "execution_count": 3,
   "metadata": {},
   "outputs": [
    {
     "name": "stdout",
     "output_type": "stream",
     "text": [
      "tringular numbers [1, 3, 6, 10, 15]\n"
     ]
    }
   ],
   "source": [
    "def tringular_numbers(n):\n",
    "    return [i*(i+1) // 2 for i in range (1,n+1)]\n",
    "n=5\n",
    "tringular_list=tringular_numbers(n)\n",
    "print(\"tringular numbers\",tringular_list)"
   ]
  },
  {
   "cell_type": "markdown",
   "metadata": {},
   "source": [
    "49.check if a list contains another list as a subsequence"
   ]
  },
  {
   "cell_type": "code",
   "execution_count": 6,
   "metadata": {},
   "outputs": [
    {
     "name": "stdout",
     "output_type": "stream",
     "text": [
      "main list does not contains subsequence\n"
     ]
    }
   ],
   "source": [
    "def sub_sequence(sequenc,main_list):\n",
    "    sequenc_index=0\n",
    "    for element in  main_list:\n",
    "        if element==sequenc[sequenc_index]:\n",
    "            sequenc_index+=1\n",
    "        if  sequenc==len(sequenc):\n",
    "            return True\n",
    "        return False\n",
    "main_list=[1,3,3,4,5,6]\n",
    "sequence=[4,5,6]\n",
    "if sub_sequence(sequence,main_list):\n",
    "    print(\"main list contains subsequence\")\n",
    "else:\n",
    "    print(\"main list does not contains subsequence\")"
   ]
  },
  {
   "cell_type": "markdown",
   "metadata": {},
   "source": [
    "50 swap two elements in a list by their indices"
   ]
  },
  {
   "cell_type": "code",
   "execution_count": 7,
   "metadata": {},
   "outputs": [
    {
     "name": "stdout",
     "output_type": "stream",
     "text": [
      "List after swapping elements: [1, 4, 3, 2, 5]\n"
     ]
    }
   ],
   "source": [
    "my_list = [1, 2, 3, 4, 5]\n",
    "index1 = 1\n",
    "index2 = 3\n",
    "temp = my_list[index1]\n",
    "my_list[index1] = my_list[index2]\n",
    "my_list[index2] = temp\n",
    "\n",
    "print(\"List after swapping elements:\", my_list)"
   ]
  },
  {
   "cell_type": "markdown",
   "metadata": {},
   "source": [
    "TUPLE BASED PRACTISE PROBLEM"
   ]
  },
  {
   "cell_type": "markdown",
   "metadata": {},
   "source": [
    "1.create a tuple with integers 1 to 5"
   ]
  },
  {
   "cell_type": "code",
   "execution_count": 17,
   "metadata": {},
   "outputs": [
    {
     "name": "stdout",
     "output_type": "stream",
     "text": [
      "30\n"
     ]
    }
   ],
   "source": [
    "my_tuple=[10,20,30,40,50]\n",
    "third_element=my_tuple[2]\n",
    "print(third_element)"
   ]
  },
  {
   "cell_type": "markdown",
   "metadata": {},
   "source": [
    "2.Access the third element of a tuple"
   ]
  },
  {
   "cell_type": "code",
   "execution_count": 18,
   "metadata": {},
   "outputs": [
    {
     "name": "stdout",
     "output_type": "stream",
     "text": [
      "2\n"
     ]
    }
   ],
   "source": [
    "my_tuple=(1,2,3,4,5)\n",
    "third_element=my_tuple[1]\n",
    "print(third_element)"
   ]
  },
  {
   "cell_type": "markdown",
   "metadata": {},
   "source": [
    "3.find the length of  the tuple without using len() function"
   ]
  },
  {
   "cell_type": "code",
   "execution_count": 23,
   "metadata": {},
   "outputs": [
    {
     "name": "stdout",
     "output_type": "stream",
     "text": [
      "the length of my_tuple 5\n"
     ]
    }
   ],
   "source": [
    "my_tuple=(10,20,30,40,50)\n",
    "count=0\n",
    "for i in my_tuple:\n",
    "    count+=1\n",
    "print(\"the length of my_tuple\",count)"
   ]
  },
  {
   "cell_type": "markdown",
   "metadata": {},
   "source": [
    "4.count the occurences of an element in tuple"
   ]
  },
  {
   "cell_type": "code",
   "execution_count": 27,
   "metadata": {},
   "outputs": [
    {
     "name": "stdout",
     "output_type": "stream",
     "text": [
      "the element of20 is appers 3\n"
     ]
    }
   ],
   "source": [
    "my_tuple=(10,20,30,20,20)\n",
    "element_count=20\n",
    "count=0\n",
    "for item in my_tuple:\n",
    "    if item==element_count:\n",
    "        count+=1\n",
    "print(f\"the element of{element_count} is appers {count}\")"
   ]
  },
  {
   "cell_type": "markdown",
   "metadata": {},
   "source": [
    "5.find the index of the first occurence of an element in a tuple."
   ]
  },
  {
   "cell_type": "code",
   "execution_count": 41,
   "metadata": {},
   "outputs": [
    {
     "name": "stdout",
     "output_type": "stream",
     "text": [
      "20 is not found in tuple\n"
     ]
    }
   ],
   "source": [
    "my_tuple=(10,20,30,40,50)\n",
    "element_find=20\n",
    "index=-1\n",
    "for i,item in enumerate(my_tuple):\n",
    "    if item==element_find:\n",
    "        index=i\n",
    "        break\n",
    "    if index !=-1:\n",
    "        print(f\"the element of {element_find} is appears{index}\")\n",
    "    else:\n",
    "        print(f\"{element_find} is not found in tuple\")\n",
    "        "
   ]
  },
  {
   "cell_type": "markdown",
   "metadata": {},
   "source": [
    "6.check if an element exists in tuple"
   ]
  },
  {
   "cell_type": "code",
   "execution_count": 49,
   "metadata": {},
   "outputs": [
    {
     "name": "stdout",
     "output_type": "stream",
     "text": [
      "10,exist  in tuple\n",
      "20,exist  in tuple\n",
      "30,exist  in tuple\n",
      "40,exist  in tuple\n",
      "50,exist  in tuple\n",
      "50 does not exists in tuple\n"
     ]
    }
   ],
   "source": [
    "my_tuple=(10,20,30,40,50)\n",
    "element_to_check= 30\n",
    "for element_to_check in my_tuple:\n",
    "    print(f\"{element_to_check},exist  in tuple\")\n",
    "else:\n",
    "    print(f\"{element_to_check} does not exists in tuple\")"
   ]
  },
  {
   "cell_type": "markdown",
   "metadata": {},
   "source": [
    "7. convert a tuple into list"
   ]
  },
  {
   "cell_type": "code",
   "execution_count": 51,
   "metadata": {},
   "outputs": [
    {
     "name": "stdout",
     "output_type": "stream",
     "text": [
      "my_tuple (10, 20, 30, 40, 50)\n",
      "my_list [10, 20, 30, 40, 50]\n"
     ]
    }
   ],
   "source": [
    "my_tuple=(10,20,30,40,50)\n",
    "my_list=list(my_tuple)\n",
    "print(\"my_tuple\",my_tuple)\n",
    "print(\"my_list\",my_list)"
   ]
  },
  {
   "cell_type": "markdown",
   "metadata": {},
   "source": [
    "8.convert a list into tuple"
   ]
  },
  {
   "cell_type": "code",
   "execution_count": 52,
   "metadata": {},
   "outputs": [
    {
     "name": "stdout",
     "output_type": "stream",
     "text": [
      "my_list [10, 20, 30, 40, 50]\n",
      "my_tuple (10, 20, 30, 40, 50)\n"
     ]
    }
   ],
   "source": [
    "my_list=[10,20,30,40,50]\n",
    "my_tuple=tuple(my_list)\n",
    "print(\"my_list\",my_list)\n",
    "print(\"my_tuple\",my_tuple)"
   ]
  },
  {
   "cell_type": "markdown",
   "metadata": {},
   "source": [
    "9.unpack the elements of a tuple into variables"
   ]
  },
  {
   "cell_type": "code",
   "execution_count": 53,
   "metadata": {},
   "outputs": [
    {
     "name": "stdout",
     "output_type": "stream",
     "text": [
      "var1 10\n",
      "var2 20\n",
      "var3 30\n"
     ]
    }
   ],
   "source": [
    "my_tuple=(10,20,30)\n",
    "var1,var2,var3=my_tuple\n",
    "print(\"var1\",var1)\n",
    "print(\"var2\",var2)\n",
    "print(\"var3\",var3)"
   ]
  },
  {
   "cell_type": "markdown",
   "metadata": {},
   "source": [
    "10.create a tuple of even numbers from 1 to 10 "
   ]
  },
  {
   "cell_type": "code",
   "execution_count": 55,
   "metadata": {},
   "outputs": [
    {
     "name": "stdout",
     "output_type": "stream",
     "text": [
      "tuple even numbers (2, 4, 6, 8, 10)\n"
     ]
    }
   ],
   "source": [
    "create_even_numbers=[num for num in range(2,11,2)]\n",
    "tuple_even_number=tuple(create_even_numbers)\n",
    "print(\"tuple even numbers\",tuple_even_number)"
   ]
  },
  {
   "cell_type": "markdown",
   "metadata": {},
   "source": [
    "11. create a  tuple of odd numbers from 1 to 10"
   ]
  },
  {
   "cell_type": "code",
   "execution_count": 57,
   "metadata": {},
   "outputs": [
    {
     "name": "stdout",
     "output_type": "stream",
     "text": [
      "tuple of odd numbers (1, 4, 7, 10)\n"
     ]
    }
   ],
   "source": [
    "create_odd_numbers=[num for num in range(1,11,3)]\n",
    "tuple_odd_numbers=tuple(create_odd_numbers)\n",
    "print(\"tuple of odd numbers\",tuple_odd_numbers)"
   ]
  },
  {
   "cell_type": "markdown",
   "metadata": {},
   "source": [
    "12.concatenate of tuples"
   ]
  },
  {
   "cell_type": "code",
   "execution_count": 58,
   "metadata": {},
   "outputs": [
    {
     "name": "stdout",
     "output_type": "stream",
     "text": [
      "(10, 11, 12, 13, 1, 2, 3, 4, 5, 6)\n"
     ]
    }
   ],
   "source": [
    "tuple1=(10,11,12,13)\n",
    "tuple2=(1,2,3,4,5,6)\n",
    "tuple=tuple1+tuple2\n",
    "print(tuple)"
   ]
  },
  {
   "cell_type": "markdown",
   "metadata": {},
   "source": [
    "13.Repeat of tuple three times"
   ]
  },
  {
   "cell_type": "code",
   "execution_count": 59,
   "metadata": {},
   "outputs": [
    {
     "name": "stdout",
     "output_type": "stream",
     "text": [
      "(1, 2, 3, 1, 2, 3, 1, 2, 3)\n"
     ]
    }
   ],
   "source": [
    "orignal_tuple=(1,2,3)\n",
    "repeat_tuple=orignal_tuple*3\n",
    "print(repeat_tuple)"
   ]
  },
  {
   "cell_type": "markdown",
   "metadata": {},
   "source": [
    "14.check if tuple is empty"
   ]
  },
  {
   "cell_type": "code",
   "execution_count": 61,
   "metadata": {},
   "outputs": [
    {
     "name": "stdout",
     "output_type": "stream",
     "text": [
      "the empty_tuple is empty\n",
      " the Non_empty_tuple is not empty\n"
     ]
    }
   ],
   "source": [
    "empty_tuple=()\n",
    "Not_empty_tuple=(1,2,3)\n",
    "if not empty_tuple:\n",
    "    print(\"the empty_tuple is empty\")\n",
    "else:\n",
    "    print(\"the empty_tuple is not empty\")\n",
    "if not Not_empty_tuple:\n",
    "    print(\"the Non_empty_tuple is  empty\")\n",
    "else:\n",
    "    print(\" the Non_empty_tuple is not empty\")\n"
   ]
  },
  {
   "cell_type": "markdown",
   "metadata": {},
   "source": [
    "15.  create  a tuple of Nested tuple"
   ]
  },
  {
   "cell_type": "code",
   "execution_count": 62,
   "metadata": {},
   "outputs": [
    {
     "name": "stdout",
     "output_type": "stream",
     "text": [
      "Nested tuples ((1, 2, 3), ('a', 'b', 'c'), (True, False))\n"
     ]
    }
   ],
   "source": [
    "nested_tuple=((1,2,3),(\"a\",\"b\",\"c\"),(True,False))\n",
    "print(\"Nested tuples\",nested_tuple)"
   ]
  },
  {
   "cell_type": "markdown",
   "metadata": {},
   "source": [
    "16.Access  the first occurence of a nested tuple"
   ]
  },
  {
   "cell_type": "code",
   "execution_count": 65,
   "metadata": {},
   "outputs": [
    {
     "name": "stdout",
     "output_type": "stream",
     "text": [
      "nested (1, 2, 3)\n"
     ]
    }
   ],
   "source": [
    "nested_tuple=((1,2,3),(\"a\",\"b\",\"c\"),(True,False))\n",
    "nested=nested_tuple[0]\n",
    "print(\"nested\",nested)"
   ]
  },
  {
   "cell_type": "markdown",
   "metadata": {},
   "source": [
    "17.create a tuple of single element "
   ]
  },
  {
   "cell_type": "code",
   "execution_count": 66,
   "metadata": {},
   "outputs": [
    {
     "name": "stdout",
     "output_type": "stream",
     "text": [
      "single element (42,)\n"
     ]
    }
   ],
   "source": [
    "tuple_single_element=(42,)\n",
    "print(\"single element\",tuple_single_element)"
   ]
  },
  {
   "cell_type": "markdown",
   "metadata": {},
   "source": [
    "18.compare two tuples"
   ]
  },
  {
   "cell_type": "code",
   "execution_count": 68,
   "metadata": {},
   "outputs": [
    {
     "name": "stdout",
     "output_type": "stream",
     "text": [
      "tuple1 == tuple2 True\n",
      "tuple1 >  tuple2 False\n",
      "tuple1 <  tuple2 False\n",
      "tuple1 != tuple2 False\n",
      "tuple1 >= tuple2 True\n",
      "tuple1 <= tuple True\n"
     ]
    }
   ],
   "source": [
    "tuple1=(1,2,3)\n",
    "tuple2=(1,2,3)\n",
    "print(\"tuple1 == tuple2\",tuple1==tuple2)\n",
    "print(\"tuple1 >  tuple2\",tuple1>tuple2)\n",
    "print(\"tuple1 <  tuple2\",tuple1<tuple2)\n",
    "print(\"tuple1 != tuple2\",tuple1!=tuple2)\n",
    "print(\"tuple1 >= tuple2\",tuple1>=tuple2)\n",
    "print(\"tuple1 <= tuple\",tuple1<=tuple2)"
   ]
  },
  {
   "cell_type": "markdown",
   "metadata": {},
   "source": [
    "19.delete a tuple"
   ]
  },
  {
   "cell_type": "code",
   "execution_count": 69,
   "metadata": {},
   "outputs": [
    {
     "ename": "NameError",
     "evalue": "name 'my_tuple' is not defined",
     "output_type": "error",
     "traceback": [
      "\u001b[1;31m---------------------------------------------------------------------------\u001b[0m",
      "\u001b[1;31mNameError\u001b[0m                                 Traceback (most recent call last)",
      "\u001b[1;32mUntitled-1 Cell 241\u001b[0m line \u001b[0;36m3\n\u001b[0;32m      <a href='vscode-notebook-cell:Untitled-1#Y501sdW50aXRsZWQ%3D?line=0'>1</a>\u001b[0m my_tuple\u001b[39m=\u001b[39m(\u001b[39m1\u001b[39m,\u001b[39m2\u001b[39m,\u001b[39m3\u001b[39m)\n\u001b[0;32m      <a href='vscode-notebook-cell:Untitled-1#Y501sdW50aXRsZWQ%3D?line=1'>2</a>\u001b[0m \u001b[39mdel\u001b[39;00m my_tuple\n\u001b[1;32m----> <a href='vscode-notebook-cell:Untitled-1#Y501sdW50aXRsZWQ%3D?line=2'>3</a>\u001b[0m \u001b[39mprint\u001b[39m(my_tuple)\n",
      "\u001b[1;31mNameError\u001b[0m: name 'my_tuple' is not defined"
     ]
    }
   ],
   "source": [
    "my_tuple=(1,2,3)\n",
    "del my_tuple\n",
    "print(my_tuple)"
   ]
  },
  {
   "cell_type": "markdown",
   "metadata": {},
   "source": [
    "20 slice a tuple"
   ]
  },
  {
   "cell_type": "code",
   "execution_count": 70,
   "metadata": {},
   "outputs": [
    {
     "name": "stdout",
     "output_type": "stream",
     "text": [
      "(3, 4, 5, 6)\n"
     ]
    }
   ],
   "source": [
    "my_tuple=(1,2,3,4,5,6,7,8,9)\n",
    "sliced_tuple=my_tuple[2:6]\n",
    "print(sliced_tuple)"
   ]
  },
  {
   "cell_type": "markdown",
   "metadata": {},
   "source": [
    "21. find the maximum value in a tuple"
   ]
  },
  {
   "cell_type": "code",
   "execution_count": 71,
   "metadata": {},
   "outputs": [
    {
     "name": "stdout",
     "output_type": "stream",
     "text": [
      "41\n"
     ]
    }
   ],
   "source": [
    "my_tuple=(12,1,41,22,32,24)\n",
    "maximumu_tuple=max(my_tuple)\n",
    "print(maximumu_tuple)"
   ]
  },
  {
   "cell_type": "markdown",
   "metadata": {},
   "source": [
    "22 find the minimum value in tuple"
   ]
  },
  {
   "cell_type": "code",
   "execution_count": 72,
   "metadata": {},
   "outputs": [
    {
     "name": "stdout",
     "output_type": "stream",
     "text": [
      "1\n"
     ]
    }
   ],
   "source": [
    "my_tuple=(12,1,41,22,32,24)\n",
    "minimum_tuple=min(my_tuple)\n",
    "print(minimum_tuple)"
   ]
  },
  {
   "cell_type": "markdown",
   "metadata": {},
   "source": [
    "23.convert a string into tuple case characters"
   ]
  },
  {
   "cell_type": "code",
   "execution_count": 1,
   "metadata": {},
   "outputs": [
    {
     "name": "stdout",
     "output_type": "stream",
     "text": [
      "('h', 'e', 'l', 'l', 'o', ' ', 'w', 'o', 'r', 'l', 'd')\n"
     ]
    }
   ],
   "source": [
    "string1=\"hello world\"\n",
    "tuple_characters = tuple(string1)\n",
    "print(tuple_characters)"
   ]
  },
  {
   "cell_type": "markdown",
   "metadata": {},
   "source": [
    "24.convert a tuple case characters into string"
   ]
  },
  {
   "cell_type": "code",
   "execution_count": 3,
   "metadata": {},
   "outputs": [
    {
     "name": "stdout",
     "output_type": "stream",
     "text": [
      "hello\n"
     ]
    }
   ],
   "source": [
    "tuple_case_characters=('h','e','l','l','o')\n",
    "string_from_tuple=''.join(tuple_case_characters)\n",
    "print(string_from_tuple)"
   ]
  },
  {
   "cell_type": "markdown",
   "metadata": {},
   "source": [
    "25.create tuple of multiple data types"
   ]
  },
  {
   "cell_type": "code",
   "execution_count": 5,
   "metadata": {},
   "outputs": [
    {
     "name": "stdout",
     "output_type": "stream",
     "text": [
      "(1, 2, 3, 4, 'a', 'b', 'c', 3.14, True)\n"
     ]
    }
   ],
   "source": [
    "multiple_tuple_data=(1,2,3,4,'a','b','c',3.14,True)\n",
    "print(multiple_tuple_data)"
   ]
  },
  {
   "cell_type": "markdown",
   "metadata": {},
   "source": [
    "26.check if wor tuples are identical"
   ]
  },
  {
   "cell_type": "code",
   "execution_count": 7,
   "metadata": {},
   "outputs": [
    {
     "name": "stdout",
     "output_type": "stream",
     "text": [
      "are identical1 True\n",
      "are identical False\n"
     ]
    }
   ],
   "source": [
    "tuple1=(1,2,3)\n",
    "tuple2=(1,2,3)\n",
    "tuple3=(4,5,6)\n",
    "are_identical1=tuple1==tuple2\n",
    "are_identical2=tuple1==tuple3\n",
    "print(\"are identical1\",are_identical1)\n",
    "print(\"are identical\",are_identical2)"
   ]
  },
  {
   "cell_type": "markdown",
   "metadata": {},
   "source": [
    "27.sort the elements of tuple"
   ]
  },
  {
   "cell_type": "code",
   "execution_count": 9,
   "metadata": {},
   "outputs": [
    {
     "name": "stdout",
     "output_type": "stream",
     "text": [
      "sorted tuple (1, 2, 3, 3, 3, 4, 4, 5, 6)\n"
     ]
    }
   ],
   "source": [
    "my_tuple=(1,2,3,4,3,3,4,5,6)\n",
    "sorted_tuple=tuple(sorted(my_tuple))\n",
    "print(\"sorted tuple\",sorted_tuple)"
   ]
  },
  {
   "cell_type": "markdown",
   "metadata": {},
   "source": [
    "28.convert a tuple of integers into tuple of strings"
   ]
  },
  {
   "cell_type": "code",
   "execution_count": 12,
   "metadata": {},
   "outputs": [
    {
     "name": "stdout",
     "output_type": "stream",
     "text": [
      "tuple of string ('1', '2', '3', '4', '5', '6', '7', '8', '9', '10')\n"
     ]
    }
   ],
   "source": [
    "my_tuple=(1,2,3,4,5,6,7,8,9,10)\n",
    "tuple_of_string= tuple(str(item)for item in my_tuple)\n",
    "\n",
    "print(\"tuple of string\",tuple_of_string)"
   ]
  },
  {
   "cell_type": "markdown",
   "metadata": {},
   "source": [
    "29.convert a tuple of string into tuple of integers"
   ]
  },
  {
   "cell_type": "code",
   "execution_count": 13,
   "metadata": {},
   "outputs": [
    {
     "name": "stdout",
     "output_type": "stream",
     "text": [
      "tuple of intgers (1, 2, 3, 4, 5, 6, 7)\n"
     ]
    }
   ],
   "source": [
    "my_tuple=('1','2','3','4','5','6','7')\n",
    "tuple_of_integers=tuple(int(item)for item in my_tuple)\n",
    "print(\"tuple of intgers\",tuple_of_integers)"
   ]
  },
  {
   "cell_type": "markdown",
   "metadata": {},
   "source": [
    "30.merged two tuple"
   ]
  },
  {
   "cell_type": "code",
   "execution_count": 14,
   "metadata": {},
   "outputs": [
    {
     "name": "stdout",
     "output_type": "stream",
     "text": [
      "merged tuples (1, 2, 3, 4, 5, 1, 2, 3, 4, 5)\n"
     ]
    }
   ],
   "source": [
    "tuple1=(1,2,3,4,5)\n",
    "tuple2=(1,2,3,4,5)\n",
    "merged_tuple=tuple1+tuple2\n",
    "print(\"merged tuples\",merged_tuple)"
   ]
  },
  {
   "cell_type": "markdown",
   "metadata": {},
   "source": [
    "31. Flatten a Nested loop"
   ]
  },
  {
   "cell_type": "code",
   "execution_count": 5,
   "metadata": {},
   "outputs": [
    {
     "name": "stdout",
     "output_type": "stream",
     "text": [
      "Flatende tuple (2, 4, 6, (4, 5, 6))\n"
     ]
    }
   ],
   "source": [
    "def flatten_tuple(nested_tuple):\n",
    "    flattende=[]\n",
    "    for item in nested_tuple:\n",
    "        if isinstance(item,tuple):\n",
    "         flattende.extend(flatten_tuple(item))\n",
    "    else:\n",
    "         flattende.append(item)\n",
    "         return flattende\n",
    "nested_tuple=((1,2),(2,3,4),(4,5,6))\n",
    "Flatende_tuple=tuple(flatten_tuple(nested_tuple))\n",
    "print(\"Flatende tuple\",Flatende_tuple)"
   ]
  },
  {
   "cell_type": "markdown",
   "metadata": {},
   "source": [
    "32.create a tuple of 5 prime numbers"
   ]
  },
  {
   "cell_type": "code",
   "execution_count": 10,
   "metadata": {},
   "outputs": [
    {
     "name": "stdout",
     "output_type": "stream",
     "text": [
      "tuple prime numbers (5, 7, 9, 11, 13)\n"
     ]
    }
   ],
   "source": [
    "def is_prime(num):\n",
    "    if num<=1:\n",
    "        return False\n",
    "    for i in range(2, int(num**0.5) +1):\n",
    "        if num %i==0:\n",
    "            return False\n",
    "        return True\n",
    "tuple_prime_list=[num for num  in range(2,100) if is_prime(num)][:5]\n",
    "tuple_prime_number=tuple(tuple_prime_list)\n",
    "print(\"tuple prime numbers\",tuple_prime_number)\n"
   ]
  },
  {
   "cell_type": "markdown",
   "metadata": {},
   "source": [
    "33.check if a tuple is_palindrome"
   ]
  },
  {
   "cell_type": "code",
   "execution_count": 12,
   "metadata": {},
   "outputs": [
    {
     "name": "stdout",
     "output_type": "stream",
     "text": [
      "palindrome tuple True\n",
      "NoN_palindrome tuple False\n"
     ]
    }
   ],
   "source": [
    "def is_palindrome(tuple):\n",
    "    return tuple==tuple[::-1]\n",
    "palindrom_tuple=(1,2,3,2,1)\n",
    "non_palindrom_tuple=(1,2,3,4,5)\n",
    "is_palindrome1=is_palindrome(palindrom_tuple)\n",
    "is_palindrome2=is_palindrome(non_palindrom_tuple)\n",
    "print(\"palindrome tuple\",is_palindrome1)\n",
    "print(\"NoN_palindrome tuple\",is_palindrome2)\n"
   ]
  },
  {
   "cell_type": "markdown",
   "metadata": {},
   "source": [
    "34.create a tuple of squares of numbers from 1 to 5"
   ]
  },
  {
   "cell_type": "code",
   "execution_count": 15,
   "metadata": {},
   "outputs": [
    {
     "name": "stdout",
     "output_type": "stream",
     "text": [
      "squares of tuple (1, 4, 9, 16, 25)\n"
     ]
    }
   ],
   "source": [
    "squares_tuple=tuple(x**2 for x in range(1,6))\n",
    "print(\"squares of tuple\",squares_tuple)"
   ]
  },
  {
   "cell_type": "markdown",
   "metadata": {},
   "source": [
    "35. filter out all even numbers from a tuple"
   ]
  },
  {
   "cell_type": "code",
   "execution_count": 21,
   "metadata": {},
   "outputs": [
    {
     "name": "stdout",
     "output_type": "stream",
     "text": [
      "filter even numbers (1, 3, 45, 7, 9, 9, 3, 23, 5)\n"
     ]
    }
   ],
   "source": [
    "numbers=(1,2,3,45,6,7,8,9,9,0,3,23,4,5,4)\n",
    "filter_even_numbers=tuple(num for num in numbers if num % 2 !=0)\n",
    "print(\"filter even numbers\",filter_even_numbers)\n"
   ]
  },
  {
   "cell_type": "markdown",
   "metadata": {},
   "source": [
    "36. Multiply by all elements by 2"
   ]
  },
  {
   "cell_type": "code",
   "execution_count": 24,
   "metadata": {},
   "outputs": [
    {
     "name": "stdout",
     "output_type": "stream",
     "text": [
      "double_tuple (2, 4, 6, 8, 10)\n"
     ]
    }
   ],
   "source": [
    "orignal_tuple=(1,2,3,4,5)\n",
    "double_tuple=tuple(num * 2 for num in  orignal_tuple )\n",
    "print(\"double_tuple\", double_tuple)"
   ]
  },
  {
   "cell_type": "markdown",
   "metadata": {},
   "source": [
    "37. create a tuple of random numbers"
   ]
  },
  {
   "cell_type": "code",
   "execution_count": 1,
   "metadata": {},
   "outputs": [
    {
     "name": "stdout",
     "output_type": "stream",
     "text": [
      "Random tuple: (100, 18, 26, 48, 4, 78, 48, 77, 73, 27)\n"
     ]
    }
   ],
   "source": [
    "import random\n",
    "random_tuple = tuple(random.randint(1, 100) for _ in range(10))  \n",
    "print(\"Random tuple:\", random_tuple)"
   ]
  },
  {
   "cell_type": "markdown",
   "metadata": {},
   "source": [
    "38. check if tuple is sorted"
   ]
  },
  {
   "cell_type": "code",
   "execution_count": 3,
   "metadata": {},
   "outputs": [
    {
     "name": "stdout",
     "output_type": "stream",
     "text": [
      "sorted_tuple is sorted: True\n",
      "unsorted_tuple is sorted: False\n"
     ]
    }
   ],
   "source": [
    "def is_sorted(tup):\n",
    "    for i in range(len(tup)-1):\n",
    "        if  tup[i]>tup[i+1]:\n",
    "            return False\n",
    "        return True\n",
    "sorted_tuple = (1, 2, 3, 4, 5)\n",
    "unsorted_tuple = (5, 3, 1, 4, 2)\n",
    "is_sorted1 = is_sorted(sorted_tuple)\n",
    "is_sorted2 = is_sorted(unsorted_tuple)\n",
    "print(\"sorted_tuple is sorted:\", is_sorted1)\n",
    "print(\"unsorted_tuple is sorted:\", is_sorted2)\n"
   ]
  },
  {
   "cell_type": "markdown",
   "metadata": {},
   "source": [
    "39.Rotate a tuple to the left by nth position"
   ]
  },
  {
   "cell_type": "code",
   "execution_count": 10,
   "metadata": {},
   "outputs": [
    {
     "name": "stdout",
     "output_type": "stream",
     "text": [
      "(3, 4, 5, 1, 2)\n"
     ]
    }
   ],
   "source": [
    "def rotate_tuple_left(tup,n):\n",
    "    n=n%len(tup)\n",
    "    rotated_tuple=tup[n:]+tup[:n]\n",
    "    return rotated_tuple\n",
    "my_tuple=(1,2,3,4,5)\n",
    "n_position=2\n",
    "result=rotate_tuple_left(my_tuple,n_position)\n",
    "print(result)"
   ]
  },
  {
   "cell_type": "markdown",
   "metadata": {},
   "source": [
    "40. Rotate a tuple to the left by nth position"
   ]
  },
  {
   "cell_type": "code",
   "execution_count": 20,
   "metadata": {},
   "outputs": [
    {
     "name": "stdout",
     "output_type": "stream",
     "text": [
      "(2, 1, 5, 4, 3)\n"
     ]
    }
   ],
   "source": [
    "def rotate_tuple_right(tup,n):\n",
    "    n=n%len(tup)\n",
    "    rotated_right=tup[-n:]+tup[:-n]\n",
    "    return rotated_right\n",
    "my_tuple=(5,4,3,2,1)\n",
    "n_position=2\n",
    "result=rotate_tuple_right(my_tuple,n_position)\n",
    "print(result)"
   ]
  },
  {
   "cell_type": "markdown",
   "metadata": {},
   "source": [
    "41.create a tuple of first fibonacci numbers"
   ]
  },
  {
   "cell_type": "code",
   "execution_count": 23,
   "metadata": {},
   "outputs": [
    {
     "name": "stdout",
     "output_type": "stream",
     "text": [
      "(0, 1, 1, 2, 3)\n"
     ]
    }
   ],
   "source": [
    "def genrate_fibonacci(n):\n",
    "    fibonacci=[0,1]\n",
    "    while len(fibonacci)<n:\n",
    "        next_number=fibonacci[-1]+fibonacci[-2]\n",
    "        fibonacci.append(next_number)\n",
    "    return tuple(fibonacci)\n",
    "fibonacci_tuple=genrate_fibonacci(5)\n",
    "print(fibonacci_tuple)"
   ]
  },
  {
   "cell_type": "markdown",
   "metadata": {},
   "source": [
    "42.create a tuple for user input"
   ]
  },
  {
   "cell_type": "code",
   "execution_count": 24,
   "metadata": {},
   "outputs": [
    {
     "name": "stdout",
     "output_type": "stream",
     "text": [
      "user input ('mohseen',)\n"
     ]
    }
   ],
   "source": [
    "input_str=input(\"enter string by seprated commas\")\n",
    "input_list=input_str.split(',')\n",
    "user_tuple=tuple(input_list)\n",
    "print(\"user input\",user_tuple)"
   ]
  },
  {
   "cell_type": "markdown",
   "metadata": {},
   "source": [
    "43.swap two elements in a tuple"
   ]
  },
  {
   "cell_type": "code",
   "execution_count": 33,
   "metadata": {},
   "outputs": [
    {
     "name": "stdout",
     "output_type": "stream",
     "text": [
      "swapped tuple (1, 3, 2, 4, 5)\n"
     ]
    }
   ],
   "source": [
    "my_tuple=(1,2,3,4,5)\n",
    "index1=1\n",
    "index2=2\n",
    "swapped_tuple=tuple(\n",
    "my_tuple[i] if i not in (index1,index2) else\n",
    "my_tuple[index2]  if i == index1 else\n",
    "my_tuple[index1]\n",
    "for i in range(len(my_tuple))\n",
    ")\n",
    "print(\"swapped tuple\",swapped_tuple)"
   ]
  },
  {
   "cell_type": "markdown",
   "metadata": {},
   "source": [
    "44.Reverse the elements of the tuple"
   ]
  },
  {
   "cell_type": "code",
   "execution_count": 34,
   "metadata": {},
   "outputs": [
    {
     "name": "stdout",
     "output_type": "stream",
     "text": [
      "reversed tuple (6, 5, 4, 3, 2, 1)\n"
     ]
    }
   ],
   "source": [
    "my_tuple=(1,2,3,4,5,6)\n",
    "reversed_tuple=my_tuple[::-1]\n",
    "print(\"reversed tuple\",reversed_tuple)"
   ]
  },
  {
   "cell_type": "markdown",
   "metadata": {},
   "source": [
    "45. create a tuple of first nth power of 2"
   ]
  },
  {
   "cell_type": "code",
   "execution_count": 37,
   "metadata": {},
   "outputs": [
    {
     "name": "stdout",
     "output_type": "stream",
     "text": [
      "power_of_2_tuple (1, 2, 4, 8, 16)\n"
     ]
    }
   ],
   "source": [
    "n=5\n",
    "power_of_2_tuple=tuple(2**i for i in range(n))\n",
    "print(\"power_of_2_tuple\",power_of_2_tuple)"
   ]
  },
  {
   "cell_type": "markdown",
   "metadata": {},
   "source": [
    "46. find the longest string in the tuple"
   ]
  },
  {
   "cell_type": "code",
   "execution_count": 38,
   "metadata": {},
   "outputs": [
    {
     "name": "stdout",
     "output_type": "stream",
     "text": [
      "watermelon\n"
     ]
    }
   ],
   "source": [
    "my_tuple=(\"banana\",\"apple\",\"watermelon\",\"grapes\")\n",
    "my_string=max(my_tuple, key=len)\n",
    "print(my_string)"
   ]
  },
  {
   "cell_type": "markdown",
   "metadata": {},
   "source": [
    "47.find the shortest string in the tuple"
   ]
  },
  {
   "cell_type": "code",
   "execution_count": 39,
   "metadata": {},
   "outputs": [
    {
     "name": "stdout",
     "output_type": "stream",
     "text": [
      "apple\n"
     ]
    }
   ],
   "source": [
    "my_tuple=(\"banana\",\"apple\",\"watermelon\",\"grapes\")\n",
    "my_string=min(my_tuple,key=len)\n",
    "print(my_string)"
   ]
  },
  {
   "cell_type": "markdown",
   "metadata": {},
   "source": [
    "48. create a tuple of first n tringular numbers"
   ]
  },
  {
   "cell_type": "code",
   "execution_count": 43,
   "metadata": {},
   "outputs": [
    {
     "name": "stdout",
     "output_type": "stream",
     "text": [
      "tuple of the first 5 numbers (1, 3, 6, 10, 15)\n"
     ]
    }
   ],
   "source": [
    "n=5\n",
    "\n",
    "tringular_numbers_tuple=tuple((i*(i+1)//2 for i in range(1, n+1)))\n",
    "print(\"tuple of the first\",n,\"numbers\",tringular_numbers_tuple)"
   ]
  },
  {
   "cell_type": "markdown",
   "metadata": {},
   "source": [
    "49. check if tuple contains anather tuple as a subsequence"
   ]
  },
  {
   "cell_type": "code",
   "execution_count": 54,
   "metadata": {},
   "outputs": [
    {
     "name": "stdout",
     "output_type": "stream",
     "text": [
      "sub sequence of tuple True\n"
     ]
    }
   ],
   "source": [
    "def sub_sequence(main_tuple,sub_tuple):\n",
    "    sub_length=len(sub_tuple)\n",
    "    for i in range(len(main_tuple)-sub_length +1):\n",
    "        if main_tuple[i:i+sub_length]==sub_tuple:\n",
    "            return False\n",
    "        return True\n",
    "main_tuple=(1,2,3,4,5,6,7,8,9)\n",
    "sub_tuple=(3,4,5)\n",
    "subsequence_of_tuple=sub_sequence(main_tuple,sub_tuple)\n",
    "print(\"sub sequence of tuple\",subsequence_of_tuple)"
   ]
  },
  {
   "cell_type": "markdown",
   "metadata": {},
   "source": [
    "50.create tuple of alternating 1s and 0s length of n"
   ]
  },
  {
   "cell_type": "code",
   "execution_count": 55,
   "metadata": {},
   "outputs": [
    {
     "name": "stdout",
     "output_type": "stream",
     "text": [
      "alternating_tuple (0, 1, 0, 1, 0, 1, 0, 1, 0, 1)\n"
     ]
    }
   ],
   "source": [
    "n=10\n",
    "alternating_tuple=tuple(i%2 for i in range(n))\n",
    "print(\"alternating_tuple\",alternating_tuple)"
   ]
  },
  {
   "cell_type": "markdown",
   "metadata": {},
   "source": [
    "SET BASED PROBLEM"
   ]
  },
  {
   "cell_type": "markdown",
   "metadata": {},
   "source": [
    "1.CREATE A  SET WITH INTEGERS 1 TO 5"
   ]
  },
  {
   "cell_type": "code",
   "execution_count": 57,
   "metadata": {},
   "outputs": [
    {
     "name": "stdout",
     "output_type": "stream",
     "text": [
      "{1, 2, 3, 4, 5}\n"
     ]
    }
   ],
   "source": [
    "my_set=set()\n",
    "my_set.add(1)\n",
    "my_set.add(2)\n",
    "my_set.add(3)\n",
    "my_set.add(4)\n",
    "my_set.add(5)\n",
    "print(my_set)"
   ]
  },
  {
   "cell_type": "markdown",
   "metadata": {},
   "source": [
    "2.ADD ELEMENT TO A SET"
   ]
  },
  {
   "cell_type": "code",
   "execution_count": 2,
   "metadata": {},
   "outputs": [
    {
     "name": "stdout",
     "output_type": "stream",
     "text": [
      "orignal set {1, 2, 3, 4, 5, 6}\n",
      "element added {1, 2, 3, 4, 5, 6, 7}\n"
     ]
    }
   ],
   "source": [
    "my_set={1,2,3,4,5,6}\n",
    "print(\"orignal set\",my_set)\n",
    "element_to_add=7\n",
    "my_set.add(element_to_add)\n",
    "print(\"element added\",my_set)"
   ]
  },
  {
   "cell_type": "markdown",
   "metadata": {},
   "source": [
    "3.Remove element to a set"
   ]
  },
  {
   "cell_type": "code",
   "execution_count": 4,
   "metadata": {},
   "outputs": [
    {
     "name": "stdout",
     "output_type": "stream",
     "text": [
      "orignal set {1, 2, 3, 4, 5}\n",
      "remove element {1, 2, 4, 5}\n"
     ]
    }
   ],
   "source": [
    "my_set={1,2,3,4,5}\n",
    "print(\"orignal set\",my_set)\n",
    "element_to_remove=3\n",
    "my_set.remove(element_to_remove)\n",
    "print(\"remove element\",my_set)"
   ]
  },
  {
   "cell_type": "markdown",
   "metadata": {},
   "source": [
    "4.check if an element exists in the set"
   ]
  },
  {
   "cell_type": "code",
   "execution_count": 6,
   "metadata": {},
   "outputs": [
    {
     "name": "stdout",
     "output_type": "stream",
     "text": [
      "the element exists in my_set 2\n"
     ]
    }
   ],
   "source": [
    "my_set={1,2,3,4,5,6}\n",
    "element_to_check=int(input(\"Enter any number\"))\n",
    "if element_to_check in my_set:\n",
    "    print(f\"the element exists in my_set\",element_to_check)\n",
    "else:\n",
    "        print(f\"the element does not exists in my_set\",element_to_check)"
   ]
  },
  {
   "cell_type": "markdown",
   "metadata": {},
   "source": [
    "5.find the length of the set  function without using the len() function"
   ]
  },
  {
   "cell_type": "code",
   "execution_count": 12,
   "metadata": {},
   "outputs": [
    {
     "name": "stdout",
     "output_type": "stream",
     "text": [
      "9\n"
     ]
    }
   ],
   "source": [
    "my_set={1,2,3,4,5,6,7,8,9}\n",
    "count=0\n",
    "for _ in my_set:\n",
    "    count+=1\n",
    "print(count)"
   ]
  },
  {
   "cell_type": "markdown",
   "metadata": {},
   "source": [
    "6.clear all elements in the sets"
   ]
  },
  {
   "cell_type": "code",
   "execution_count": 17,
   "metadata": {},
   "outputs": [
    {
     "name": "stdout",
     "output_type": "stream",
     "text": [
      "None\n"
     ]
    }
   ],
   "source": [
    "my_set={1,2,3,4,5,6,7,8}\n",
    "all_elements_clear=my_set.clear()\n",
    "print(all_elements_clear)"
   ]
  },
  {
   "cell_type": "markdown",
   "metadata": {},
   "source": [
    "7.create set of even numbers from 1 to 10"
   ]
  },
  {
   "cell_type": "code",
   "execution_count": 22,
   "metadata": {},
   "outputs": [
    {
     "name": "stdout",
     "output_type": "stream",
     "text": [
      "even number of set {2, 4, 6, 8, 10}\n"
     ]
    }
   ],
   "source": [
    "my_set=set()\n",
    "for i in range(1,11):\n",
    "    if i%2 ==0:\n",
    "        my_set.add(i)\n",
    "print(\"even number of set\",my_set)"
   ]
  },
  {
   "cell_type": "markdown",
   "metadata": {},
   "source": [
    "8.create set of odd numbers from 1 to 10"
   ]
  },
  {
   "cell_type": "code",
   "execution_count": 24,
   "metadata": {},
   "outputs": [
    {
     "name": "stdout",
     "output_type": "stream",
     "text": [
      "odd number of set {1, 3, 5, 7, 9}\n"
     ]
    }
   ],
   "source": [
    "my_set=set()\n",
    "for i in range(1,11):\n",
    "    if i%2 !=0:\n",
    "        my_set.add(i)\n",
    "print(\"odd number of set\",my_set)"
   ]
  },
  {
   "cell_type": "markdown",
   "metadata": {},
   "source": [
    "9.union of two sets"
   ]
  },
  {
   "cell_type": "code",
   "execution_count": 27,
   "metadata": {},
   "outputs": [
    {
     "name": "stdout",
     "output_type": "stream",
     "text": [
      "{1, 2, 3, 4, 5, 6, 7}\n"
     ]
    }
   ],
   "source": [
    "set1={1,2,3,4,5}\n",
    "set2={1,2,5,6,7}\n",
    "union_result=set1.union(set2)\n",
    "print(union_result)"
   ]
  },
  {
   "cell_type": "markdown",
   "metadata": {},
   "source": [
    "10 find the intersection of two sets"
   ]
  },
  {
   "cell_type": "code",
   "execution_count": 29,
   "metadata": {},
   "outputs": [
    {
     "name": "stdout",
     "output_type": "stream",
     "text": [
      "Intersection: {3, 4, 5}\n"
     ]
    }
   ],
   "source": [
    "set1 = {1, 2, 3, 4, 5}\n",
    "set2 = {3, 4, 5, 6, 7}\n",
    "intersection_result = set1.intersection(set2)\n",
    "print(\"Intersection:\", intersection_result)"
   ]
  },
  {
   "cell_type": "markdown",
   "metadata": {},
   "source": [
    "11 find the difference between two sets"
   ]
  },
  {
   "cell_type": "code",
   "execution_count": 30,
   "metadata": {},
   "outputs": [
    {
     "name": "stdout",
     "output_type": "stream",
     "text": [
      "Difference: {1, 2}\n"
     ]
    }
   ],
   "source": [
    "set1 = {1, 2, 3, 4, 5}\n",
    "set2 = {3, 4, 5, 6, 7}\n",
    "difference_set = set1.difference(set2)\n",
    "print(\"Difference:\", difference_set)"
   ]
  },
  {
   "cell_type": "markdown",
   "metadata": {},
   "source": [
    "12 check if a set is a subset of another subset"
   ]
  },
  {
   "cell_type": "code",
   "execution_count": 34,
   "metadata": {},
   "outputs": [
    {
     "name": "stdout",
     "output_type": "stream",
     "text": [
      "False\n"
     ]
    }
   ],
   "source": [
    "set1={1,2,3}\n",
    "set2={1,2,5}\n",
    "subset_result=set1.issubset(set2)\n",
    "print(subset_result)"
   ]
  },
  {
   "cell_type": "markdown",
   "metadata": {},
   "source": [
    "13.check if  a set is a superset  of another set"
   ]
  },
  {
   "cell_type": "code",
   "execution_count": 42,
   "metadata": {},
   "outputs": [
    {
     "name": "stdout",
     "output_type": "stream",
     "text": [
      "True\n",
      "this is superset  of set2\n"
     ]
    }
   ],
   "source": [
    "set1={1,2,3,4,5,6}\n",
    "set2={1,2,3,4}\n",
    "superset_result=set1.issuperset(set2)\n",
    "print(superset_result)\n",
    "if  superset_result:\n",
    "    print(\"this is superset  of set2\")\n",
    "else:\n",
    "    print(\"this  is not superset of set2\")"
   ]
  },
  {
   "cell_type": "markdown",
   "metadata": {},
   "source": [
    "14.create a set form list"
   ]
  },
  {
   "cell_type": "code",
   "execution_count": 44,
   "metadata": {},
   "outputs": [
    {
     "name": "stdout",
     "output_type": "stream",
     "text": [
      "{1, 2, 3, 4, 5}\n"
     ]
    }
   ],
   "source": [
    "my_list=[1,2,3,4,5]\n",
    "my_set=set(my_list)\n",
    "print(my_set)"
   ]
  },
  {
   "cell_type": "markdown",
   "metadata": {},
   "source": [
    "15. convert set to a list"
   ]
  },
  {
   "cell_type": "code",
   "execution_count": 45,
   "metadata": {},
   "outputs": [
    {
     "name": "stdout",
     "output_type": "stream",
     "text": [
      "Converted List: [1, 2, 3, 4, 5, 6, 9]\n"
     ]
    }
   ],
   "source": [
    "my_set = {3, 1, 4, 1, 5, 9, 2, 6, 5}\n",
    "my_list = list(my_set)\n",
    "print(\"Converted List:\", my_list)"
   ]
  },
  {
   "cell_type": "markdown",
   "metadata": {},
   "source": [
    "16.Remove random element from a set\n"
   ]
  },
  {
   "cell_type": "code",
   "execution_count": 47,
   "metadata": {},
   "outputs": [
    {
     "name": "stdout",
     "output_type": "stream",
     "text": [
      "{2, 3, 4, 5, 6}\n"
     ]
    }
   ],
   "source": [
    "import  random\n",
    "my_set={1,2,3,4,5,6}\n",
    "random_element=random.choice(list(my_set))\n",
    "my_set.remove(random_element)\n",
    "print(my_set)"
   ]
  },
  {
   "cell_type": "markdown",
   "metadata": {},
   "source": [
    "17.pop element from a set"
   ]
  },
  {
   "cell_type": "code",
   "execution_count": 50,
   "metadata": {},
   "outputs": [
    {
     "name": "stdout",
     "output_type": "stream",
     "text": [
      "1\n",
      "{2, 3, 4, 5, 6}\n"
     ]
    }
   ],
   "source": [
    "my_set={1,2,3,4,5,6}\n",
    "popped_element=my_set.pop()\n",
    "print(popped_element)\n",
    "print(my_set)"
   ]
  },
  {
   "cell_type": "markdown",
   "metadata": {},
   "source": [
    "18.check if two sets has no common elements"
   ]
  },
  {
   "cell_type": "code",
   "execution_count": 54,
   "metadata": {},
   "outputs": [
    {
     "name": "stdout",
     "output_type": "stream",
     "text": [
      "{1, 3, 4, 5}\n",
      "has common elements\n"
     ]
    }
   ],
   "source": [
    "set1={1,2,3,4,5}\n",
    "set2={1,3,4,5}\n",
    "intersection_of_sets=set1.intersection(set2)\n",
    "print(intersection_of_sets)\n",
    "if intersection_of_sets:\n",
    "    print(\"has common elements\")\n",
    "else:\n",
    "        print(\"has no common elements\")"
   ]
  },
  {
   "cell_type": "markdown",
   "metadata": {},
   "source": [
    "19.find the symmetric difference between two sets"
   ]
  },
  {
   "cell_type": "code",
   "execution_count": 55,
   "metadata": {},
   "outputs": [
    {
     "name": "stdout",
     "output_type": "stream",
     "text": [
      "symmetric difference {1, 2, 7, 8}\n"
     ]
    }
   ],
   "source": [
    "set1={1,2,3,4,5,6,7}\n",
    "set2={3,4,5,6,8}\n",
    "symmetric_difference= set1^set2\n",
    "print(\"symmetric difference\",symmetric_difference)"
   ]
  },
  {
   "cell_type": "markdown",
   "metadata": {},
   "source": [
    "20 update a set with  elements from another set"
   ]
  },
  {
   "cell_type": "code",
   "execution_count": null,
   "metadata": {},
   "outputs": [
    {
     "name": "stdout",
     "output_type": "stream",
     "text": [
      "update set {1, 2, 3, 4, 5, 6}\n"
     ]
    }
   ],
   "source": [
    "set1={1,2,3,4,5}\n",
    "set2={1,6}\n",
    "set1.update(set2)\n",
    "print(\"update set\",set1)"
   ]
  },
  {
   "cell_type": "markdown",
   "metadata": {},
   "source": [
    "21.create a set of first 5 prime numbers"
   ]
  },
  {
   "cell_type": "code",
   "execution_count": 3,
   "metadata": {},
   "outputs": [
    {
     "name": "stdout",
     "output_type": "stream",
     "text": [
      "Set of the first 5 prime numbers: {2, 3, 5, 7, 11}\n"
     ]
    }
   ],
   "source": [
    "def is_prime(num):\n",
    "    if num <= 1:\n",
    "        return False\n",
    "    for i in range(2, int(num ** 0.5) + 1):\n",
    "        if num % i == 0:\n",
    "            return False\n",
    "    return True\n",
    "\n",
    "\n",
    "prime_set = set()\n",
    "num = 2\n",
    "while len(prime_set) < 5:\n",
    "    if is_prime(num):\n",
    "        prime_set.add(num)\n",
    "    num += 1\n",
    "print(\"Set of the first 5 prime numbers:\", prime_set)"
   ]
  },
  {
   "cell_type": "markdown",
   "metadata": {},
   "source": [
    "22.checks if two sets are identical"
   ]
  },
  {
   "cell_type": "code",
   "execution_count": 5,
   "metadata": {},
   "outputs": [
    {
     "name": "stdout",
     "output_type": "stream",
     "text": [
      "the sets are identical\n"
     ]
    }
   ],
   "source": [
    "set1={1,2,3,4,5}\n",
    "set2={5,2,1,4,3}\n",
    "if set1==set2:\n",
    "    print(\"the sets are identical\")\n",
    "else:\n",
    "    print(\"sets are not identical\")"
   ]
  },
  {
   "cell_type": "markdown",
   "metadata": {},
   "source": [
    "23.create a frozen set"
   ]
  },
  {
   "cell_type": "code",
   "execution_count": 6,
   "metadata": {},
   "outputs": [
    {
     "name": "stdout",
     "output_type": "stream",
     "text": [
      "frozen set frozenset({1, 2, 3, 4, 5, 6})\n"
     ]
    }
   ],
   "source": [
    "elements=[1,2,3,4,5,6]\n",
    "elements_to_froze=frozenset(elements)\n",
    "print(\"frozen set\",elements_to_froze)"
   ]
  },
  {
   "cell_type": "markdown",
   "metadata": {},
   "source": [
    "24.check if a set is disjoint with another set"
   ]
  },
  {
   "cell_type": "code",
   "execution_count": 8,
   "metadata": {},
   "outputs": [
    {
     "name": "stdout",
     "output_type": "stream",
     "text": [
      "disjoint set False\n"
     ]
    }
   ],
   "source": [
    "set1={1,2,3,4,5,6}\n",
    "set2={6,5,4,3,2,1}\n",
    "disjoint_set=set1.isdisjoint(set2)\n",
    "print(\"disjoint set\",disjoint_set)"
   ]
  },
  {
   "cell_type": "markdown",
   "metadata": {},
   "source": [
    "25.create a set of squares from 1 to 5"
   ]
  },
  {
   "cell_type": "code",
   "execution_count": 12,
   "metadata": {},
   "outputs": [
    {
     "name": "stdout",
     "output_type": "stream",
     "text": [
      "squares of set {1}\n",
      "squares of set {1, 4}\n",
      "squares of set {1, 4, 9}\n",
      "squares of set {16, 1, 4, 9}\n",
      "squares of set {1, 4, 9, 16, 25}\n"
     ]
    }
   ],
   "source": [
    "squares_set=set()\n",
    "for num in range(1,6):\n",
    "    squares=num**2\n",
    "    squares_set.add(squares)\n",
    "    print(\"squares of set\",squares_set)"
   ]
  },
  {
   "cell_type": "markdown",
   "metadata": {},
   "source": [
    "26. filter out all even numbers from a set"
   ]
  },
  {
   "cell_type": "code",
   "execution_count": 14,
   "metadata": {},
   "outputs": [
    {
     "name": "stdout",
     "output_type": "stream",
     "text": [
      "orignal set {1, 2, 3, 4, 5, 6, 7, 8, 9}\n",
      "create_even_numbers {8, 2, 4, 6}\n"
     ]
    }
   ],
   "source": [
    "orignal_set={1,2,3,4,5,6,7,8,9}\n",
    "create_even_numbers=set()\n",
    "for num in orignal_set:\n",
    "    if  num%2==0:\n",
    "     create_even_numbers.add(num)\n",
    "print(\"orignal set\",orignal_set)\n",
    "print(\"create_even_numbers\",create_even_numbers)"
   ]
  },
  {
   "cell_type": "markdown",
   "metadata": {},
   "source": [
    "27 multiply all elements  in a sets by 2"
   ]
  },
  {
   "cell_type": "code",
   "execution_count": 2,
   "metadata": {},
   "outputs": [
    {
     "name": "stdout",
     "output_type": "stream",
     "text": [
      "Original Set: {1, 2, 3, 4, 5}\n",
      "Multiplied Set: {2, 4, 6, 8, 10}\n"
     ]
    }
   ],
   "source": [
    "original_set = {1, 2, 3, 4, 5}\n",
    "multiplied_set = set()\n",
    "for num in original_set:\n",
    "    multiplied_num = num * 2\n",
    "    multiplied_set.add(multiplied_num)\n",
    "print(\"Original Set:\", original_set)\n",
    "print(\"Multiplied Set:\", multiplied_set)"
   ]
  },
  {
   "cell_type": "markdown",
   "metadata": {},
   "source": [
    "28 create a random numbers in a set"
   ]
  },
  {
   "cell_type": "code",
   "execution_count": 7,
   "metadata": {},
   "outputs": [
    {
     "name": "stdout",
     "output_type": "stream",
     "text": [
      "Generated set of random numbers: {98, 6, 81, 92, 94}\n"
     ]
    }
   ],
   "source": [
    "import random\n",
    "num_random_numbers = 5\n",
    "random_number_set = set()\n",
    "for _ in range(num_random_numbers):\n",
    "    random_num = random.randint(1, 100) \n",
    "    random_number_set.add(random_num)\n",
    "print(\"Generated set of random numbers:\", random_number_set)"
   ]
  },
  {
   "cell_type": "markdown",
   "metadata": {},
   "source": [
    "29. create an empty set"
   ]
  },
  {
   "cell_type": "code",
   "execution_count": 9,
   "metadata": {},
   "outputs": [
    {
     "name": "stdout",
     "output_type": "stream",
     "text": [
      "the set is empty\n"
     ]
    }
   ],
   "source": [
    "my_set=set()\n",
    "if not  my_set:\n",
    "    print(\"the set is empty\")\n",
    "else:\n",
    "        print(\"the set is not empty\")"
   ]
  },
  {
   "cell_type": "markdown",
   "metadata": {},
   "source": [
    "30.create an nested set"
   ]
  },
  {
   "cell_type": "code",
   "execution_count": 13,
   "metadata": {},
   "outputs": [
    {
     "name": "stdout",
     "output_type": "stream",
     "text": [
      "Nested set {frozenset({1, 2, 3, 4, 5, 6, 7})}\n"
     ]
    }
   ],
   "source": [
    "set1={1,2,3,4,5,6,7}\n",
    "set2=[1,2,3,4,5,6,7]\n",
    "frozen_set1=frozenset(set1)\n",
    "frozen_set2=frozenset(set2)\n",
    "nested_set={frozen_set1,frozen_set2}\n",
    "print(\"Nested set\",nested_set)"
   ]
  },
  {
   "cell_type": "markdown",
   "metadata": {},
   "source": [
    "31. Remove an element from a set using the discard method"
   ]
  },
  {
   "cell_type": "code",
   "execution_count": 14,
   "metadata": {},
   "outputs": [
    {
     "name": "stdout",
     "output_type": "stream",
     "text": [
      "my_set {1, 2, 4, 5, 6}\n"
     ]
    }
   ],
   "source": [
    "my_set={1,2,3,4,5,6}\n",
    "elements_to_remove=3\n",
    "my_set.discard(elements_to_remove)\n",
    "print(\"my_set\",my_set)"
   ]
  },
  {
   "cell_type": "markdown",
   "metadata": {},
   "source": [
    "32 comapare two sets"
   ]
  },
  {
   "cell_type": "code",
   "execution_count": 17,
   "metadata": {},
   "outputs": [
    {
     "name": "stdout",
     "output_type": "stream",
     "text": [
      "is_subset False\n",
      "is_intersection {4, 5}\n",
      "is_union {1, 2, 3, 4, 5, 6, 7, 8}\n",
      "is_superset False\n",
      "difference1 {1, 2, 3}\n",
      "difference2 {8, 6, 7}\n"
     ]
    }
   ],
   "source": [
    "set1={1,2,3,4,5}\n",
    "set2={4,5,6,7,8}\n",
    "is_subset=set1.issubset(set2)\n",
    "is_intersection=set1.intersection(set2)\n",
    "is_union=set1.union(set2)\n",
    "is_superset=set1.issuperset(set2)\n",
    "difference1=set1.difference(set2)\n",
    "difference2=set2.difference(set1)\n",
    "print(\"is_subset\",is_subset)\n",
    "print(\"is_intersection\",is_intersection)\n",
    "print(\"is_union\",is_union)\n",
    "print(\"is_superset\",is_superset)\n",
    "print(\"difference1\",difference1)\n",
    "print(\"difference2\",difference2)"
   ]
  },
  {
   "cell_type": "markdown",
   "metadata": {},
   "source": [
    "33 create a set from string"
   ]
  },
  {
   "cell_type": "code",
   "execution_count": 18,
   "metadata": {},
   "outputs": [
    {
     "name": "stdout",
     "output_type": "stream",
     "text": [
      "{'h', 'e', 'l', 'o'}\n"
     ]
    }
   ],
   "source": [
    "input_string=\"hello\"\n",
    "char=set(input_string)\n",
    "print(char)"
   ]
  },
  {
   "cell_type": "markdown",
   "metadata": {},
   "source": [
    "34 convert a set of string into integers"
   ]
  },
  {
   "cell_type": "code",
   "execution_count": 24,
   "metadata": {},
   "outputs": [
    {
     "name": "stdout",
     "output_type": "stream",
     "text": [
      "integer set {65, 34, 22, 89, 123}\n"
     ]
    }
   ],
   "source": [
    "strings_set={\"123\",\"22\",\"34\",\"89\",\"65\"}\n",
    "integer_set=set()\n",
    "for string in strings_set:\n",
    "    integer_value=int(string)\n",
    "    integer_set.add(integer_value)\n",
    "print(\"integer set\",integer_set)"
   ]
  },
  {
   "cell_type": "markdown",
   "metadata": {},
   "source": [
    "35.convert a set of integers into string"
   ]
  },
  {
   "cell_type": "code",
   "execution_count": 26,
   "metadata": {},
   "outputs": [
    {
     "name": "stdout",
     "output_type": "stream",
     "text": [
      "string set {'7', '8', '23', '6', '45'}\n"
     ]
    }
   ],
   "source": [
    "integers_set={23,45,6,7,8,}\n",
    "string_set=set()\n",
    "for num in integers_set:\n",
    "    string_value=str(num)\n",
    "    string_set.add(string_value)\n",
    "print(\"string set\",string_set)"
   ]
  },
  {
   "cell_type": "markdown",
   "metadata": {},
   "source": [
    "36.create a set from a tuple"
   ]
  },
  {
   "cell_type": "code",
   "execution_count": 27,
   "metadata": {},
   "outputs": [
    {
     "name": "stdout",
     "output_type": "stream",
     "text": [
      "output tuple {1, 2, 3, 4, 5, 6, 7}\n"
     ]
    }
   ],
   "source": [
    "input_tuple=(1,2,3,4,5,6,7)\n",
    "output_set=set(input_tuple)\n",
    "print(\"output tuple\",output_set)"
   ]
  },
  {
   "cell_type": "markdown",
   "metadata": {},
   "source": [
    "37.convert a tuple from a  set"
   ]
  },
  {
   "cell_type": "code",
   "execution_count": 28,
   "metadata": {},
   "outputs": [
    {
     "name": "stdout",
     "output_type": "stream",
     "text": [
      "output tuple (1, 2, 3, 4, 5, 6, 7)\n"
     ]
    }
   ],
   "source": [
    "input_set={1,2,3,4,5,6,7}\n",
    "output_tuple=tuple(input_set)\n",
    "print(\"output tuple\",output_tuple)"
   ]
  },
  {
   "cell_type": "markdown",
   "metadata": {},
   "source": [
    "38. Find the maximum value in the set\n"
   ]
  },
  {
   "cell_type": "code",
   "execution_count": 30,
   "metadata": {},
   "outputs": [
    {
     "name": "stdout",
     "output_type": "stream",
     "text": [
      "maximum value 6\n"
     ]
    }
   ],
   "source": [
    "input_set={1,2,3,4,5,6}\n",
    "max_value=None\n",
    "for num in  input_set:\n",
    "    if max_value is None or num> max_value:\n",
    "        max_value=num\n",
    "print(\"maximum value\",max_value)"
   ]
  },
  {
   "cell_type": "markdown",
   "metadata": {},
   "source": [
    "39. Find the minimum value in the set"
   ]
  },
  {
   "cell_type": "code",
   "execution_count": 34,
   "metadata": {},
   "outputs": [
    {
     "name": "stdout",
     "output_type": "stream",
     "text": [
      "minimum value 1\n"
     ]
    }
   ],
   "source": [
    "input_set={1,2,3,45,}\n",
    "min_value=None\n",
    "for num in input_set:\n",
    "    if min_value is None or num<min_value:\n",
    "        min_value=num\n",
    "print(\"minimum value\",min_value)"
   ]
  },
  {
   "cell_type": "markdown",
   "metadata": {},
   "source": [
    "40. create a set user_input"
   ]
  },
  {
   "cell_type": "code",
   "execution_count": 42,
   "metadata": {},
   "outputs": [
    {
     "name": "stdout",
     "output_type": "stream",
     "text": [
      "enter elements to done to finish\n",
      "final_set {'mohseen'}\n"
     ]
    }
   ],
   "source": [
    "user_set=set()\n",
    "print(\"enter elements to done to finish\")\n",
    "while True:\n",
    "    user_input=input(\">\")\n",
    "    if user_input.lower()=='done':\n",
    "        break\n",
    "    user_set.add(user_input)\n",
    "print(\"final_set\",user_set)"
   ]
  },
  {
   "cell_type": "markdown",
   "metadata": {},
   "source": [
    "41.check if the intersection of two sets are empty"
   ]
  },
  {
   "cell_type": "code",
   "execution_count": 48,
   "metadata": {},
   "outputs": [
    {
     "name": "stdout",
     "output_type": "stream",
     "text": [
      "the intersection result is empty \n"
     ]
    }
   ],
   "source": [
    "set1={1,2,3,4,5,6}\n",
    "set2={}\n",
    "intersection_result=set1.intersection(set2)\n",
    "if not intersection_result:\n",
    "    print(\"the intersection result is empty \")\n",
    "else:\n",
    "        print(\"the intersection result is  non_empty\")"
   ]
  },
  {
   "cell_type": "markdown",
   "metadata": {},
   "source": [
    "42.create a set of first 5 fibonacci numbers"
   ]
  },
  {
   "cell_type": "code",
   "execution_count": 49,
   "metadata": {},
   "outputs": [
    {
     "name": "stdout",
     "output_type": "stream",
     "text": [
      "set of fibonacci numbers {0, 1, 2, 3, 5}\n"
     ]
    }
   ],
   "source": [
    "fibonacci_set=set()\n",
    "a,b=0,1\n",
    "for _ in range(6):\n",
    "    fibonacci_set.add(a)\n",
    "    a,b=b,a+b\n",
    "print(\"set of fibonacci numbers\",fibonacci_set)"
   ]
  },
  {
   "cell_type": "markdown",
   "metadata": {},
   "source": [
    "43. Remove duplicates from  list using sets"
   ]
  },
  {
   "cell_type": "code",
   "execution_count": 50,
   "metadata": {},
   "outputs": [
    {
     "name": "stdout",
     "output_type": "stream",
     "text": [
      "[1, 2, 3, 4, 5, 2, 1, 5, 6, 8, 9]\n",
      "[1, 2, 3, 4, 5, 6, 8, 9]\n"
     ]
    }
   ],
   "source": [
    "orignal_list=[1,2,3,4,5,2,1,5,6,8,9]\n",
    "unique_set=set(orignal_list)\n",
    "unique_list=list(unique_set)\n",
    "print(orignal_list)\n",
    "print(unique_list)"
   ]
  },
  {
   "cell_type": "markdown",
   "metadata": {},
   "source": [
    "44. checks if two sets have same elements ,regardless of their count"
   ]
  },
  {
   "cell_type": "code",
   "execution_count": 73,
   "metadata": {},
   "outputs": [
    {
     "name": "stdout",
     "output_type": "stream",
     "text": [
      "the sets has same elements\n"
     ]
    }
   ],
   "source": [
    "def have_same_element(set1,set2):\n",
    "    sorted_list1=sorted(list(set1))\n",
    "    sorted_list2=sorted(list(set2))\n",
    "    return sorted_list1==sorted_list2\n",
    "set1={1,2,3,2,1}\n",
    "set2={1,2,3}\n",
    "result=have_same_element(set1,set2)\n",
    "if result:\n",
    "    print(\"the sets has same elements\")\n",
    "else:\n",
    "    print(\"the sets has not same elements \")"
   ]
  },
  {
   "cell_type": "markdown",
   "metadata": {},
   "source": [
    "45. create a set of the first n power of 2"
   ]
  },
  {
   "cell_type": "code",
   "execution_count": 82,
   "metadata": {},
   "outputs": [
    {
     "name": "stdout",
     "output_type": "stream",
     "text": [
      "{1, 2, 4, 8, 16}\n"
     ]
    }
   ],
   "source": [
    "def genrate_power(n):\n",
    "    power_of_2 = set()\n",
    "    for i in range(n):\n",
    "        power = 2 ** i\n",
    "        power_of_2.add(power)\n",
    "    return power_of_2\n",
    "n=5\n",
    "power_genrate=genrate_power(n)\n",
    "print(power_genrate)"
   ]
  },
  {
   "cell_type": "markdown",
   "metadata": {},
   "source": [
    "46.find the common elements between  sets and the list"
   ]
  },
  {
   "cell_type": "code",
   "execution_count": 84,
   "metadata": {},
   "outputs": [
    {
     "name": "stdout",
     "output_type": "stream",
     "text": [
      "common elements [1, 2, 3, 4, 5, 6]\n"
     ]
    }
   ],
   "source": [
    "my_list=[1,2,3,4,5,6]\n",
    "my_set={1,2,3,4,5,6}\n",
    "list_to_set=set(my_list)\n",
    "common_elements=[]\n",
    "for elements in my_set:\n",
    "    if elements in list_to_set:\n",
    "        common_elements.append(elements)\n",
    "print(\"common elements\",common_elements)       "
   ]
  },
  {
   "cell_type": "markdown",
   "metadata": {},
   "source": [
    "47.create a set of the first n tringular numbers"
   ]
  },
  {
   "cell_type": "code",
   "execution_count": 2,
   "metadata": {},
   "outputs": [
    {
     "name": "stdout",
     "output_type": "stream",
     "text": [
      "The set of the first 7 triangular numbers is: {1, 3, 6, 10, 15, 21, 28}\n"
     ]
    }
   ],
   "source": [
    "def generate_triangular_numbers(n):\n",
    "    triangular_numbers = set()  \n",
    "    for i in range(1, n + 1):\n",
    "        triangular_number = i * (i + 1) // 2  \n",
    "        triangular_numbers.add(triangular_number)  \n",
    "    return triangular_numbers\n",
    "n = int(input(\"Enter the value of n: \"))\n",
    "triangular_set = generate_triangular_numbers(n)\n",
    "print(f\"The set of the first {n} triangular numbers is:\", triangular_set)"
   ]
  },
  {
   "cell_type": "markdown",
   "metadata": {},
   "source": [
    "48.check if a set contains another set is a subset"
   ]
  },
  {
   "cell_type": "code",
   "execution_count": 6,
   "metadata": {},
   "outputs": [
    {
     "name": "stdout",
     "output_type": "stream",
     "text": [
      "set1 is not a subset of set2 \n"
     ]
    }
   ],
   "source": [
    "set1={1,2,3,4,5,6}\n",
    "set2={1,2,3,4,5,6,7}\n",
    "is_subset=set1.issubset(set2)\n",
    "if not is_subset:\n",
    "    print(\"set1 is a subset of set2\")\n",
    "else:\n",
    "    print(\"set1 is not a subset of set2 \")"
   ]
  },
  {
   "cell_type": "markdown",
   "metadata": {},
   "source": [
    "49. create a set of alternating 1s and 0s of length (n)"
   ]
  },
  {
   "cell_type": "code",
   "execution_count": 18,
   "metadata": {},
   "outputs": [
    {
     "name": "stdout",
     "output_type": "stream",
     "text": [
      "alternate set {0, 1}\n"
     ]
    }
   ],
   "source": [
    "def create_alternating_set(n):\n",
    "    alternating_set=set()\n",
    "    for i in range(n):\n",
    "        if i%2 ==0:\n",
    "            alternating_set.add(0)\n",
    "    else:\n",
    "        alternating_set.add(1)\n",
    "        return alternating_set\n",
    "n=10\n",
    "result=create_alternating_set(n)\n",
    "print(\"alternate set\",result)"
   ]
  },
  {
   "cell_type": "markdown",
   "metadata": {},
   "source": [
    "50.Merged multiple sets into"
   ]
  },
  {
   "cell_type": "code",
   "execution_count": 19,
   "metadata": {},
   "outputs": [
    {
     "name": "stdout",
     "output_type": "stream",
     "text": [
      "merged sets {1, 2, 3, 4, 5, 6, 7, 8, 9, 10}\n"
     ]
    }
   ],
   "source": [
    "set1={1,2,3,4,5}\n",
    "set2={5,6,7}\n",
    "set3={8,9,10}\n",
    "merged_sets=set1.union(set2,set3)\n",
    "print(\"merged sets\",merged_sets)"
   ]
  },
  {
   "cell_type": "code",
   "execution_count": null,
   "metadata": {},
   "outputs": [],
   "source": []
  }
 ],
 "metadata": {
  "kernelspec": {
   "display_name": "Python 3",
   "language": "python",
   "name": "python3"
  },
  "language_info": {
   "codemirror_mode": {
    "name": "ipython",
    "version": 3
   },
   "file_extension": ".py",
   "mimetype": "text/x-python",
   "name": "python",
   "nbconvert_exporter": "python",
   "pygments_lexer": "ipython3",
   "version": "3.11.1"
  }
 },
 "nbformat": 4,
 "nbformat_minor": 2
}
